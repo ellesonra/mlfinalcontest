{
 "cells": [
  {
   "cell_type": "code",
   "execution_count": 1,
   "id": "457f716d",
   "metadata": {},
   "outputs": [],
   "source": [
    "import pandas as pd\n",
    "import torch\n",
    "import torch.nn as nn\n",
    "import torch.optim as optim\n",
    "from tqdm import tqdm\n",
    "from torch.utils.data import Dataset, DataLoader\n",
    "import matplotlib.pyplot as plt\n",
    "from sklearn.metrics import accuracy_score\n",
    "import numpy as np"
   ]
  },
  {
   "cell_type": "code",
   "execution_count": 2,
   "id": "980b1437",
   "metadata": {},
   "outputs": [
    {
     "name": "stdout",
     "output_type": "stream",
     "text": [
      "5672\n"
     ]
    }
   ],
   "source": [
    "df_raw = pd.read_csv(\"annthyroid.csv\", header=None)\n",
    "df_raw.loc[df_raw[21] == -1, 21] = 0\n",
    "device = \"cpu\"\n",
    "y = pd.get_dummies(df_raw.iloc[:,-1])\n",
    "y = torch.Tensor(y.values).to(device)\n",
    "x = df_raw.iloc[:,:-1]\n",
    "x = torch.Tensor(x.values).to(device)\n",
    "num_split = int(len(x) * 0.8)\n",
    "print(num_split)\n",
    "x_train = x[:num_split,:]\n",
    "x_test = x[num_split:,:]\n",
    "y_train = y[:num_split,:]\n",
    "y_test = y[num_split:,:]"
   ]
  },
  {
   "cell_type": "code",
   "execution_count": 3,
   "id": "64a1fb7b",
   "metadata": {},
   "outputs": [
    {
     "data": {
      "text/plain": [
       "0       1\n",
       "1       1\n",
       "2       1\n",
       "3       1\n",
       "4       1\n",
       "       ..\n",
       "7085    1\n",
       "7086    0\n",
       "7087    1\n",
       "7088    1\n",
       "7089    1\n",
       "Name: 21, Length: 7090, dtype: int64"
      ]
     },
     "execution_count": 3,
     "metadata": {},
     "output_type": "execute_result"
    }
   ],
   "source": [
    "df_raw[21].value_counts()"
   ]
  },
  {
   "cell_type": "code",
   "execution_count": 4,
   "id": "150de397",
   "metadata": {},
   "outputs": [
    {
     "name": "stdout",
     "output_type": "stream",
     "text": [
      "5243\n",
      "429\n"
     ]
    }
   ],
   "source": [
    "x_train_p_list = []\n",
    "y_train_p_list = []\n",
    "for i in range(len(y_train)):\n",
    "    #print(y_train[i])\n",
    "    if y_train[i].equal(torch.tensor([0.,1.])):\n",
    "        #print(\"c\")\n",
    "        x_train_p_list.append(x_train[i])\n",
    "        y_train_p_list.append(y_train[i])\n",
    "#print(x_train_M_list)\n",
    "y_train_p = torch.stack(y_train_p_list)\n",
    "x_train_p = torch.stack(x_train_p_list)\n",
    "x_train_n_list = []\n",
    "y_train_n_list = []\n",
    "for i in range(len(y_train)):\n",
    "    #print(y_train[i])\n",
    "    if y_train[i].equal(torch.tensor([1.,0.])):\n",
    "        #print(\"c\")\n",
    "        x_train_n_list.append(x_train[i])\n",
    "        y_train_n_list.append(y_train[i])\n",
    "#print(x_train_M_list)\n",
    "y_train_n = torch.stack(y_train_n_list)\n",
    "x_train_n = torch.stack(x_train_n_list)\n",
    "print(len(x_train_p))\n",
    "print(len(x_train_n))"
   ]
  },
  {
   "cell_type": "code",
   "execution_count": 5,
   "id": "54dda0ec",
   "metadata": {},
   "outputs": [],
   "source": [
    "# Source: https://debuggercafe.com/getting-started-with-variational-autoencoder-using-pytorch/\n",
    "class VariationalAutoencoder(nn.Module):\n",
    "    def __init__(self, num_features=8, num_dim=21):\n",
    "        super(VariationalAutoencoder, self).__init__()\n",
    "        \n",
    "        self.num_features = num_features\n",
    "        self.num_dim = num_dim\n",
    "        \n",
    "        self.encoder_layer_1 = nn.Linear(in_features=self.num_dim, out_features=512)\n",
    "        self.encoder_layer_2 = nn.Linear(in_features=512, out_features=(self.num_features * 2))\n",
    "        \n",
    "        self.decoder_layer_1 = nn.Linear(in_features=self.num_features, out_features=512)\n",
    "        self.decoder_layer_2 = nn.Linear(in_features=512, out_features=self.num_dim)\n",
    "        \n",
    "        self.relu = nn.ReLU() # hidden layers\n",
    "        self.sigmoid = nn.Sigmoid() # output layer\n",
    "        \n",
    "    def reparameterize(self, mu, log_var):\n",
    "        \"\"\"\n",
    "        :param mu: mean from the encoder's latent space\n",
    "        :param log_var: log variance from the encoder's latent space\n",
    "        \"\"\"\n",
    "        std = torch.exp(0.5*log_var) # standard deviation\n",
    "        eps = torch.randn_like(std)  # `randn_like` as we need the same size\n",
    "        sample = mu + (eps * std)    # sampling as if coming from the input space\n",
    "        \n",
    "        return sample\n",
    "    \n",
    "    def encode(self, x):\n",
    "        # encoding\n",
    "        #x = F.relu(self.encoder_layer_1(x))\n",
    "        x = self.encoder_layer_1(x)\n",
    "        x = self.relu(x)\n",
    "        x = self.encoder_layer_2(x).view(-1, 2, self.num_features)\n",
    "        \n",
    "        # get `mu` and `log_var`\n",
    "        mu = x[:, 0, :] # the first feature values as mean\n",
    "        log_var = x[:, 1, :] # the other feature values as variance\n",
    "        \n",
    "        # get the latent vector through reparameterization\n",
    "        z = self.reparameterize(mu, log_var)\n",
    "        \n",
    "        return z, mu, log_var\n",
    "    \n",
    "    def decode(self, z, mu, log_var):\n",
    "        # decoding\n",
    "        #x = F.relu(self.decoder_layer_1(z))\n",
    "        x = self.decoder_layer_1(z)\n",
    "        x = self.relu(x)\n",
    "        \n",
    "        #reconstruction = torch.sigmoid(self.decoder_layer_2(x))\n",
    "        reconstruction = self.decoder_layer_2(x)\n",
    "        reconstruction = self.sigmoid(reconstruction)\n",
    "        \n",
    "        return reconstruction, mu, log_var\n",
    "    \n",
    "    def sample(self, mu, log_var):\n",
    "        z = self.reparameterize(mu, log_var)\n",
    "        reconstruction, mu, log_var = self.decode(z, mu, log_var)\n",
    "        \n",
    "        return reconstruction\n",
    "        \n",
    "    \n",
    "    def forward(self, x):\n",
    "        \n",
    "        z, mu, log_var = self.encode(x)\n",
    "        reconstruction, mu, log_var = self.decode(z, mu, log_var)\n",
    "        \n",
    "        return reconstruction, mu, log_var\n",
    "    \n",
    "# Custom dataset to treat how the model picks an x, y combination from the dataset\n",
    "class AutoencoderDataset(Dataset):\n",
    "    def __init__(self, x):\n",
    "        self.x = x\n",
    "        \n",
    "    def __len__(self):\n",
    "        return len(self.x)\n",
    "    \n",
    "    # Requires you to return data as a pair of _x, _y\n",
    "    def __getitem__(self, index):\n",
    "        return self.x[index], self.x[index]\n",
    "    \n",
    "def final_loss(bce_loss, mu, logvar):\n",
    "    \"\"\"\n",
    "    This function will add the reconstruction loss (BCELoss) and the \n",
    "    KL-Divergence.\n",
    "    KL-Divergence = 0.5 * sum(1 + log(sigma^2) - mu^2 - sigma^2)\n",
    "    :param bce_loss: recontruction loss\n",
    "    :param mu: the mean from the latent vector\n",
    "    :param logvar: log variance from the latent vector\n",
    "    \"\"\"\n",
    "    BCE = bce_loss \n",
    "    KLD = -0.5 * torch.sum(1 + logvar - mu.pow(2) - logvar.exp())\n",
    "    return BCE + KLD\n",
    "\n",
    "# Define the training process\n",
    "# Each call of the train function == 1 Epoch\n",
    "def train_fn(loader, model, optimizer, loss_fn, batch_size):\n",
    "    loop = tqdm(loader)\n",
    "    \n",
    "    count = 0\n",
    "    ave_loss = 0.00\n",
    "    \n",
    "    # Loop per batch\n",
    "    for batch_idx, (data, targets) in enumerate(loop):\n",
    "        reconstruction, mu, logvar = model.forward(data)\n",
    "        \n",
    "        loss = loss_fn(reconstruction, targets)\n",
    "        \n",
    "        loss = final_loss(loss, mu, logvar)\n",
    "        \n",
    "        optimizer.zero_grad()\n",
    "        \n",
    "        loss.backward()\n",
    "        \n",
    "        optimizer.step()\n",
    "        \n",
    "        loop.set_postfix(loss=loss.item())\n",
    "        \n",
    "        ave_loss += loss.item()\n",
    "        count += 1\n",
    "        \n",
    "    ave_loss = ave_loss / count\n",
    "    \n",
    "    return ave_loss"
   ]
  },
  {
   "cell_type": "code",
   "execution_count": 6,
   "id": "c1311189",
   "metadata": {},
   "outputs": [],
   "source": [
    "num_features = 8\n",
    "model = VariationalAutoencoder(num_features=num_features)\n",
    "learning_rate = 0.001\n",
    "loss_fn = nn.BCELoss()\n",
    "optimizer = optim.Adam(model.parameters(), lr=learning_rate)\n",
    "batch_size = 100"
   ]
  },
  {
   "cell_type": "code",
   "execution_count": 7,
   "id": "0eb61c34",
   "metadata": {},
   "outputs": [],
   "source": [
    "custom_dataset_x_train_n = AutoencoderDataset(x_train_n)\n",
    "\n",
    "train_loader = DataLoader(\n",
    "    custom_dataset_x_train_n,\n",
    "    batch_size=batch_size,\n",
    "    shuffle=False,\n",
    "    drop_last=False\n",
    ")"
   ]
  },
  {
   "cell_type": "code",
   "execution_count": 8,
   "id": "968b4bb3",
   "metadata": {},
   "outputs": [
    {
     "name": "stdout",
     "output_type": "stream",
     "text": [
      "Epoch: 0\n"
     ]
    },
    {
     "name": "stderr",
     "output_type": "stream",
     "text": [
      "100%|████████████████████████████████████████████████████████████████████████████████████████████████████████████████████████████████████████████████████████████| 5/5 [00:00<00:00, 27.17it/s, loss=2.16]\n"
     ]
    },
    {
     "name": "stdout",
     "output_type": "stream",
     "text": [
      "Ave Loss: 7.418554162979126\n",
      "Epoch: 1\n"
     ]
    },
    {
     "name": "stderr",
     "output_type": "stream",
     "text": [
      "100%|████████████████████████████████████████████████████████████████████████████████████████████████████████████████████████████████████████████████████████████| 5/5 [00:00<00:00, 39.68it/s, loss=1.24]\n"
     ]
    },
    {
     "name": "stdout",
     "output_type": "stream",
     "text": [
      "Ave Loss: 4.5211385726928714\n",
      "Epoch: 2\n"
     ]
    },
    {
     "name": "stderr",
     "output_type": "stream",
     "text": [
      "100%|███████████████████████████████████████████████████████████████████████████████████████████████████████████████████████████████████████████████████████████| 5/5 [00:00<00:00, 64.94it/s, loss=0.768]\n"
     ]
    },
    {
     "name": "stdout",
     "output_type": "stream",
     "text": [
      "Ave Loss: 2.2702789306640625\n",
      "Epoch: 3\n"
     ]
    },
    {
     "name": "stderr",
     "output_type": "stream",
     "text": [
      "100%|███████████████████████████████████████████████████████████████████████████████████████████████████████████████████████████████████████████████████████████| 5/5 [00:00<00:00, 63.29it/s, loss=0.637]\n"
     ]
    },
    {
     "name": "stdout",
     "output_type": "stream",
     "text": [
      "Ave Loss: 1.4664002537727356\n",
      "Epoch: 4\n"
     ]
    },
    {
     "name": "stderr",
     "output_type": "stream",
     "text": [
      "100%|███████████████████████████████████████████████████████████████████████████████████████████████████████████████████████████████████████████████████████████| 5/5 [00:00<00:00, 64.10it/s, loss=0.475]\n"
     ]
    },
    {
     "name": "stdout",
     "output_type": "stream",
     "text": [
      "Ave Loss: 1.2267260015010835\n",
      "Epoch: 5\n"
     ]
    },
    {
     "name": "stderr",
     "output_type": "stream",
     "text": [
      "100%|███████████████████████████████████████████████████████████████████████████████████████████████████████████████████████████████████████████████████████████| 5/5 [00:00<00:00, 65.79it/s, loss=0.403]\n"
     ]
    },
    {
     "name": "stdout",
     "output_type": "stream",
     "text": [
      "Ave Loss: 0.6462174594402313\n",
      "Epoch: 6\n"
     ]
    },
    {
     "name": "stderr",
     "output_type": "stream",
     "text": [
      "100%|███████████████████████████████████████████████████████████████████████████████████████████████████████████████████████████████████████████████████████████| 5/5 [00:00<00:00, 74.62it/s, loss=0.367]\n"
     ]
    },
    {
     "name": "stdout",
     "output_type": "stream",
     "text": [
      "Ave Loss: 0.7174904406070709\n",
      "Epoch: 7\n"
     ]
    },
    {
     "name": "stderr",
     "output_type": "stream",
     "text": [
      "100%|███████████████████████████████████████████████████████████████████████████████████████████████████████████████████████████████████████████████████████████| 5/5 [00:00<00:00, 79.37it/s, loss=0.328]\n"
     ]
    },
    {
     "name": "stdout",
     "output_type": "stream",
     "text": [
      "Ave Loss: 0.4413904011249542\n",
      "Epoch: 8\n"
     ]
    },
    {
     "name": "stderr",
     "output_type": "stream",
     "text": [
      "100%|███████████████████████████████████████████████████████████████████████████████████████████████████████████████████████████████████████████████████████████| 5/5 [00:00<00:00, 66.67it/s, loss=0.313]\n"
     ]
    },
    {
     "name": "stdout",
     "output_type": "stream",
     "text": [
      "Ave Loss: 0.4428300201892853\n",
      "Epoch: 9\n"
     ]
    },
    {
     "name": "stderr",
     "output_type": "stream",
     "text": [
      "100%|███████████████████████████████████████████████████████████████████████████████████████████████████████████████████████████████████████████████████████████| 5/5 [00:00<00:00, 64.10it/s, loss=0.293]\n"
     ]
    },
    {
     "name": "stdout",
     "output_type": "stream",
     "text": [
      "Ave Loss: 0.3634635865688324\n",
      "Epoch: 10\n"
     ]
    },
    {
     "name": "stderr",
     "output_type": "stream",
     "text": [
      "100%|████████████████████████████████████████████████████████████████████████████████████████████████████████████████████████████████████████████████████████████| 5/5 [00:00<00:00, 80.65it/s, loss=0.28]\n"
     ]
    },
    {
     "name": "stdout",
     "output_type": "stream",
     "text": [
      "Ave Loss: 0.3364761769771576\n",
      "Epoch: 11\n"
     ]
    },
    {
     "name": "stderr",
     "output_type": "stream",
     "text": [
      "100%|███████████████████████████████████████████████████████████████████████████████████████████████████████████████████████████████████████████████████████████| 5/5 [00:00<00:00, 83.32it/s, loss=0.265]\n"
     ]
    },
    {
     "name": "stdout",
     "output_type": "stream",
     "text": [
      "Ave Loss: 0.31302127838134763\n",
      "Epoch: 12\n"
     ]
    },
    {
     "name": "stderr",
     "output_type": "stream",
     "text": [
      "100%|███████████████████████████████████████████████████████████████████████████████████████████████████████████████████████████████████████████████████████████| 5/5 [00:00<00:00, 73.53it/s, loss=0.267]\n"
     ]
    },
    {
     "name": "stdout",
     "output_type": "stream",
     "text": [
      "Ave Loss: 0.2972891807556152\n",
      "Epoch: 13\n"
     ]
    },
    {
     "name": "stderr",
     "output_type": "stream",
     "text": [
      "100%|███████████████████████████████████████████████████████████████████████████████████████████████████████████████████████████████████████████████████████████| 5/5 [00:00<00:00, 80.64it/s, loss=0.255]\n"
     ]
    },
    {
     "name": "stdout",
     "output_type": "stream",
     "text": [
      "Ave Loss: 0.28476043343544005\n",
      "Epoch: 14\n"
     ]
    },
    {
     "name": "stderr",
     "output_type": "stream",
     "text": [
      "100%|███████████████████████████████████████████████████████████████████████████████████████████████████████████████████████████████████████████████████████████| 5/5 [00:00<00:00, 79.37it/s, loss=0.262]\n"
     ]
    },
    {
     "name": "stdout",
     "output_type": "stream",
     "text": [
      "Ave Loss: 0.2781390309333801\n",
      "Epoch: 15\n"
     ]
    },
    {
     "name": "stderr",
     "output_type": "stream",
     "text": [
      "100%|████████████████████████████████████████████████████████████████████████████████████████████████████████████████████████████████████████████████████████████| 5/5 [00:00<00:00, 74.32it/s, loss=0.25]\n"
     ]
    },
    {
     "name": "stdout",
     "output_type": "stream",
     "text": [
      "Ave Loss: 0.27014966011047364\n",
      "Epoch: 16\n"
     ]
    },
    {
     "name": "stderr",
     "output_type": "stream",
     "text": [
      "100%|███████████████████████████████████████████████████████████████████████████████████████████████████████████████████████████████████████████████████████████| 5/5 [00:00<00:00, 81.26it/s, loss=0.241]\n"
     ]
    },
    {
     "name": "stdout",
     "output_type": "stream",
     "text": [
      "Ave Loss: 0.26195994317531585\n",
      "Epoch: 17\n"
     ]
    },
    {
     "name": "stderr",
     "output_type": "stream",
     "text": [
      "100%|███████████████████████████████████████████████████████████████████████████████████████████████████████████████████████████████████████████████████████████| 5/5 [00:00<00:00, 73.46it/s, loss=0.244]\n"
     ]
    },
    {
     "name": "stdout",
     "output_type": "stream",
     "text": [
      "Ave Loss: 0.25895039141178133\n",
      "Epoch: 18\n"
     ]
    },
    {
     "name": "stderr",
     "output_type": "stream",
     "text": [
      "100%|███████████████████████████████████████████████████████████████████████████████████████████████████████████████████████████████████████████████████████████| 5/5 [00:00<00:00, 81.97it/s, loss=0.244]\n"
     ]
    },
    {
     "name": "stdout",
     "output_type": "stream",
     "text": [
      "Ave Loss: 0.2550617605447769\n",
      "Epoch: 19\n"
     ]
    },
    {
     "name": "stderr",
     "output_type": "stream",
     "text": [
      "100%|███████████████████████████████████████████████████████████████████████████████████████████████████████████████████████████████████████████████████████████| 5/5 [00:00<00:00, 72.46it/s, loss=0.239]\n"
     ]
    },
    {
     "name": "stdout",
     "output_type": "stream",
     "text": [
      "Ave Loss: 0.25190945863723757\n",
      "Epoch: 20\n"
     ]
    },
    {
     "name": "stderr",
     "output_type": "stream",
     "text": [
      "100%|███████████████████████████████████████████████████████████████████████████████████████████████████████████████████████████████████████████████████████████| 5/5 [00:00<00:00, 78.70it/s, loss=0.235]\n"
     ]
    },
    {
     "name": "stdout",
     "output_type": "stream",
     "text": [
      "Ave Loss: 0.2474721699953079\n",
      "Epoch: 21\n"
     ]
    },
    {
     "name": "stderr",
     "output_type": "stream",
     "text": [
      "100%|███████████████████████████████████████████████████████████████████████████████████████████████████████████████████████████████████████████████████████████| 5/5 [00:00<00:00, 68.25it/s, loss=0.237]\n"
     ]
    },
    {
     "name": "stdout",
     "output_type": "stream",
     "text": [
      "Ave Loss: 0.2463947355747223\n",
      "Epoch: 22\n"
     ]
    },
    {
     "name": "stderr",
     "output_type": "stream",
     "text": [
      "100%|███████████████████████████████████████████████████████████████████████████████████████████████████████████████████████████████████████████████████████████| 5/5 [00:00<00:00, 51.02it/s, loss=0.232]\n"
     ]
    },
    {
     "name": "stdout",
     "output_type": "stream",
     "text": [
      "Ave Loss: 0.2428326576948166\n",
      "Epoch: 23\n"
     ]
    },
    {
     "name": "stderr",
     "output_type": "stream",
     "text": [
      "100%|███████████████████████████████████████████████████████████████████████████████████████████████████████████████████████████████████████████████████████████| 5/5 [00:00<00:00, 63.29it/s, loss=0.233]\n"
     ]
    },
    {
     "name": "stdout",
     "output_type": "stream",
     "text": [
      "Ave Loss: 0.24338837265968322\n",
      "Epoch: 24\n"
     ]
    },
    {
     "name": "stderr",
     "output_type": "stream",
     "text": [
      "100%|███████████████████████████████████████████████████████████████████████████████████████████████████████████████████████████████████████████████████████████| 5/5 [00:00<00:00, 56.18it/s, loss=0.238]\n"
     ]
    },
    {
     "name": "stdout",
     "output_type": "stream",
     "text": [
      "Ave Loss: 0.24198373258113862\n",
      "Epoch: 25\n"
     ]
    },
    {
     "name": "stderr",
     "output_type": "stream",
     "text": [
      "100%|███████████████████████████████████████████████████████████████████████████████████████████████████████████████████████████████████████████████████████████| 5/5 [00:00<00:00, 80.65it/s, loss=0.231]\n"
     ]
    },
    {
     "name": "stdout",
     "output_type": "stream",
     "text": [
      "Ave Loss: 0.23870496749877929\n",
      "Epoch: 26\n"
     ]
    },
    {
     "name": "stderr",
     "output_type": "stream",
     "text": [
      "100%|███████████████████████████████████████████████████████████████████████████████████████████████████████████████████████████████████████████████████████████| 5/5 [00:00<00:00, 78.13it/s, loss=0.233]\n"
     ]
    },
    {
     "name": "stdout",
     "output_type": "stream",
     "text": [
      "Ave Loss: 0.23855308294296265\n",
      "Epoch: 27\n"
     ]
    },
    {
     "name": "stderr",
     "output_type": "stream",
     "text": [
      "100%|███████████████████████████████████████████████████████████████████████████████████████████████████████████████████████████████████████████████████████████| 5/5 [00:00<00:00, 65.79it/s, loss=0.227]\n"
     ]
    },
    {
     "name": "stdout",
     "output_type": "stream",
     "text": [
      "Ave Loss: 0.23569517731666564\n",
      "Epoch: 28\n"
     ]
    },
    {
     "name": "stderr",
     "output_type": "stream",
     "text": [
      "100%|███████████████████████████████████████████████████████████████████████████████████████████████████████████████████████████████████████████████████████████| 5/5 [00:00<00:00, 69.44it/s, loss=0.229]\n"
     ]
    },
    {
     "name": "stdout",
     "output_type": "stream",
     "text": [
      "Ave Loss: 0.23560868799686432\n",
      "Epoch: 29\n"
     ]
    },
    {
     "name": "stderr",
     "output_type": "stream",
     "text": [
      "100%|███████████████████████████████████████████████████████████████████████████████████████████████████████████████████████████████████████████████████████████| 5/5 [00:00<00:00, 70.33it/s, loss=0.236]\n"
     ]
    },
    {
     "name": "stdout",
     "output_type": "stream",
     "text": [
      "Ave Loss: 0.23708131313323974\n",
      "Epoch: 30\n"
     ]
    },
    {
     "name": "stderr",
     "output_type": "stream",
     "text": [
      "100%|███████████████████████████████████████████████████████████████████████████████████████████████████████████████████████████████████████████████████████████| 5/5 [00:00<00:00, 57.04it/s, loss=0.237]\n"
     ]
    },
    {
     "name": "stdout",
     "output_type": "stream",
     "text": [
      "Ave Loss: 0.2366696000099182\n",
      "Epoch: 31\n"
     ]
    },
    {
     "name": "stderr",
     "output_type": "stream",
     "text": [
      "100%|████████████████████████████████████████████████████████████████████████████████████████████████████████████████████████████████████████████████████████████| 5/5 [00:00<00:00, 47.53it/s, loss=0.23]\n"
     ]
    },
    {
     "name": "stdout",
     "output_type": "stream",
     "text": [
      "Ave Loss: 0.23450731635093688\n",
      "Epoch: 32\n"
     ]
    },
    {
     "name": "stderr",
     "output_type": "stream",
     "text": [
      "100%|███████████████████████████████████████████████████████████████████████████████████████████████████████████████████████████████████████████████████████████| 5/5 [00:00<00:00, 42.37it/s, loss=0.224]\n"
     ]
    },
    {
     "name": "stdout",
     "output_type": "stream",
     "text": [
      "Ave Loss: 0.23347449600696563\n",
      "Epoch: 33\n"
     ]
    },
    {
     "name": "stderr",
     "output_type": "stream",
     "text": [
      "100%|███████████████████████████████████████████████████████████████████████████████████████████████████████████████████████████████████████████████████████████| 5/5 [00:00<00:00, 31.65it/s, loss=0.231]\n"
     ]
    },
    {
     "name": "stdout",
     "output_type": "stream",
     "text": [
      "Ave Loss: 0.2332501530647278\n",
      "Epoch: 34\n"
     ]
    },
    {
     "name": "stderr",
     "output_type": "stream",
     "text": [
      "100%|███████████████████████████████████████████████████████████████████████████████████████████████████████████████████████████████████████████████████████████| 5/5 [00:00<00:00, 37.31it/s, loss=0.229]\n"
     ]
    },
    {
     "name": "stdout",
     "output_type": "stream",
     "text": [
      "Ave Loss: 0.23312947750091553\n",
      "Epoch: 35\n"
     ]
    },
    {
     "name": "stderr",
     "output_type": "stream",
     "text": [
      "100%|███████████████████████████████████████████████████████████████████████████████████████████████████████████████████████████████████████████████████████████| 5/5 [00:00<00:00, 27.32it/s, loss=0.232]\n"
     ]
    },
    {
     "name": "stdout",
     "output_type": "stream",
     "text": [
      "Ave Loss: 0.23362947404384612\n",
      "Epoch: 36\n"
     ]
    },
    {
     "name": "stderr",
     "output_type": "stream",
     "text": [
      "100%|████████████████████████████████████████████████████████████████████████████████████████████████████████████████████████████████████████████████████████████| 5/5 [00:00<00:00, 73.53it/s, loss=0.23]\n"
     ]
    },
    {
     "name": "stdout",
     "output_type": "stream",
     "text": [
      "Ave Loss: 0.23111252188682557\n",
      "Epoch: 37\n"
     ]
    },
    {
     "name": "stderr",
     "output_type": "stream",
     "text": [
      "100%|███████████████████████████████████████████████████████████████████████████████████████████████████████████████████████████████████████████████████████████| 5/5 [00:00<00:00, 72.96it/s, loss=0.238]\n"
     ]
    },
    {
     "name": "stdout",
     "output_type": "stream",
     "text": [
      "Ave Loss: 0.23341498374938965\n",
      "Epoch: 38\n"
     ]
    },
    {
     "name": "stderr",
     "output_type": "stream",
     "text": [
      "100%|███████████████████████████████████████████████████████████████████████████████████████████████████████████████████████████████████████████████████████████| 5/5 [00:00<00:00, 66.67it/s, loss=0.225]\n"
     ]
    },
    {
     "name": "stdout",
     "output_type": "stream",
     "text": [
      "Ave Loss: 0.23074306845664977\n",
      "Epoch: 39\n"
     ]
    },
    {
     "name": "stderr",
     "output_type": "stream",
     "text": [
      "100%|████████████████████████████████████████████████████████████████████████████████████████████████████████████████████████████████████████████████████████████| 5/5 [00:00<00:00, 69.44it/s, loss=0.23]"
     ]
    },
    {
     "name": "stdout",
     "output_type": "stream",
     "text": [
      "Ave Loss: 0.2312683343887329"
     ]
    },
    {
     "name": "stderr",
     "output_type": "stream",
     "text": [
      "\n"
     ]
    },
    {
     "name": "stdout",
     "output_type": "stream",
     "text": [
      "\n",
      "Epoch: 40\n"
     ]
    },
    {
     "name": "stderr",
     "output_type": "stream",
     "text": [
      "100%|███████████████████████████████████████████████████████████████████████████████████████████████████████████████████████████████████████████████████████████| 5/5 [00:00<00:00, 78.13it/s, loss=0.231]\n"
     ]
    },
    {
     "name": "stdout",
     "output_type": "stream",
     "text": [
      "Ave Loss: 0.2307778626680374\n",
      "Epoch: 41\n"
     ]
    },
    {
     "name": "stderr",
     "output_type": "stream",
     "text": [
      "100%|███████████████████████████████████████████████████████████████████████████████████████████████████████████████████████████████████████████████████████████| 5/5 [00:00<00:00, 79.37it/s, loss=0.228]\n"
     ]
    },
    {
     "name": "stdout",
     "output_type": "stream",
     "text": [
      "Ave Loss: 0.23062385022640228\n",
      "Epoch: 42\n"
     ]
    },
    {
     "name": "stderr",
     "output_type": "stream",
     "text": [
      "100%|███████████████████████████████████████████████████████████████████████████████████████████████████████████████████████████████████████████████████████████| 5/5 [00:00<00:00, 81.97it/s, loss=0.232]\n"
     ]
    },
    {
     "name": "stdout",
     "output_type": "stream",
     "text": [
      "Ave Loss: 0.2294635683298111\n",
      "Epoch: 43\n"
     ]
    },
    {
     "name": "stderr",
     "output_type": "stream",
     "text": [
      "100%|███████████████████████████████████████████████████████████████████████████████████████████████████████████████████████████████████████████████████████████| 5/5 [00:00<00:00, 75.76it/s, loss=0.231]\n"
     ]
    },
    {
     "name": "stdout",
     "output_type": "stream",
     "text": [
      "Ave Loss: 0.2299678534269333\n",
      "Epoch: 44\n"
     ]
    },
    {
     "name": "stderr",
     "output_type": "stream",
     "text": [
      "100%|███████████████████████████████████████████████████████████████████████████████████████████████████████████████████████████████████████████████████████████| 5/5 [00:00<00:00, 79.37it/s, loss=0.227]\n"
     ]
    },
    {
     "name": "stdout",
     "output_type": "stream",
     "text": [
      "Ave Loss: 0.22950348556041716\n",
      "Epoch: 45\n"
     ]
    },
    {
     "name": "stderr",
     "output_type": "stream",
     "text": [
      "100%|███████████████████████████████████████████████████████████████████████████████████████████████████████████████████████████████████████████████████████████| 5/5 [00:00<00:00, 82.02it/s, loss=0.225]\n"
     ]
    },
    {
     "name": "stdout",
     "output_type": "stream",
     "text": [
      "Ave Loss: 0.22817685306072236\n",
      "Epoch: 46\n"
     ]
    },
    {
     "name": "stderr",
     "output_type": "stream",
     "text": [
      "100%|███████████████████████████████████████████████████████████████████████████████████████████████████████████████████████████████████████████████████████████| 5/5 [00:00<00:00, 73.53it/s, loss=0.222]\n"
     ]
    },
    {
     "name": "stdout",
     "output_type": "stream",
     "text": [
      "Ave Loss: 0.2280937284231186\n",
      "Epoch: 47\n"
     ]
    },
    {
     "name": "stderr",
     "output_type": "stream",
     "text": [
      "100%|███████████████████████████████████████████████████████████████████████████████████████████████████████████████████████████████████████████████████████████| 5/5 [00:00<00:00, 54.53it/s, loss=0.226]\n"
     ]
    },
    {
     "name": "stdout",
     "output_type": "stream",
     "text": [
      "Ave Loss: 0.2284759372472763\n",
      "Epoch: 48\n"
     ]
    },
    {
     "name": "stderr",
     "output_type": "stream",
     "text": [
      "100%|███████████████████████████████████████████████████████████████████████████████████████████████████████████████████████████████████████████████████████████| 5/5 [00:00<00:00, 61.67it/s, loss=0.228]\n"
     ]
    },
    {
     "name": "stdout",
     "output_type": "stream",
     "text": [
      "Ave Loss: 0.22872314155101775\n",
      "Epoch: 49\n"
     ]
    },
    {
     "name": "stderr",
     "output_type": "stream",
     "text": [
      "100%|███████████████████████████████████████████████████████████████████████████████████████████████████████████████████████████████████████████████████████████| 5/5 [00:00<00:00, 68.49it/s, loss=0.225]\n"
     ]
    },
    {
     "name": "stdout",
     "output_type": "stream",
     "text": [
      "Ave Loss: 0.22791527211666107\n",
      "Epoch: 50\n"
     ]
    },
    {
     "name": "stderr",
     "output_type": "stream",
     "text": [
      "100%|████████████████████████████████████████████████████████████████████████████████████████████████████████████████████████████████████████████████████████████| 5/5 [00:00<00:00, 79.36it/s, loss=0.23]\n"
     ]
    },
    {
     "name": "stdout",
     "output_type": "stream",
     "text": [
      "Ave Loss: 0.2281493842601776\n",
      "Epoch: 51\n"
     ]
    },
    {
     "name": "stderr",
     "output_type": "stream",
     "text": [
      "100%|███████████████████████████████████████████████████████████████████████████████████████████████████████████████████████████████████████████████████████████| 5/5 [00:00<00:00, 68.49it/s, loss=0.235]\n"
     ]
    },
    {
     "name": "stdout",
     "output_type": "stream",
     "text": [
      "Ave Loss: 0.23008341193199158\n",
      "Epoch: 52\n"
     ]
    },
    {
     "name": "stderr",
     "output_type": "stream",
     "text": [
      "100%|███████████████████████████████████████████████████████████████████████████████████████████████████████████████████████████████████████████████████████████| 5/5 [00:00<00:00, 75.76it/s, loss=0.226]\n"
     ]
    },
    {
     "name": "stdout",
     "output_type": "stream",
     "text": [
      "Ave Loss: 0.22858638167381287\n",
      "Epoch: 53\n"
     ]
    },
    {
     "name": "stderr",
     "output_type": "stream",
     "text": [
      "100%|███████████████████████████████████████████████████████████████████████████████████████████████████████████████████████████████████████████████████████████| 5/5 [00:00<00:00, 71.91it/s, loss=0.231]\n"
     ]
    },
    {
     "name": "stdout",
     "output_type": "stream",
     "text": [
      "Ave Loss: 0.22936731278896333\n",
      "Epoch: 54\n"
     ]
    },
    {
     "name": "stderr",
     "output_type": "stream",
     "text": [
      "100%|███████████████████████████████████████████████████████████████████████████████████████████████████████████████████████████████████████████████████████████| 5/5 [00:00<00:00, 76.92it/s, loss=0.227]\n"
     ]
    },
    {
     "name": "stdout",
     "output_type": "stream",
     "text": [
      "Ave Loss: 0.22767476439476014\n",
      "Epoch: 55\n"
     ]
    },
    {
     "name": "stderr",
     "output_type": "stream",
     "text": [
      "100%|███████████████████████████████████████████████████████████████████████████████████████████████████████████████████████████████████████████████████████████| 5/5 [00:00<00:00, 69.45it/s, loss=0.234]\n"
     ]
    },
    {
     "name": "stdout",
     "output_type": "stream",
     "text": [
      "Ave Loss: 0.2291560709476471\n",
      "Epoch: 56\n"
     ]
    },
    {
     "name": "stderr",
     "output_type": "stream",
     "text": [
      "100%|███████████████████████████████████████████████████████████████████████████████████████████████████████████████████████████████████████████████████████████| 5/5 [00:00<00:00, 78.13it/s, loss=0.226]\n"
     ]
    },
    {
     "name": "stdout",
     "output_type": "stream",
     "text": [
      "Ave Loss: 0.2278114765882492\n",
      "Epoch: 57\n"
     ]
    },
    {
     "name": "stderr",
     "output_type": "stream",
     "text": [
      "100%|███████████████████████████████████████████████████████████████████████████████████████████████████████████████████████████████████████████████████████████| 5/5 [00:00<00:00, 69.96it/s, loss=0.225]\n"
     ]
    },
    {
     "name": "stdout",
     "output_type": "stream",
     "text": [
      "Ave Loss: 0.22680168747901916\n",
      "Epoch: 58\n"
     ]
    },
    {
     "name": "stderr",
     "output_type": "stream",
     "text": [
      "100%|███████████████████████████████████████████████████████████████████████████████████████████████████████████████████████████████████████████████████████████| 5/5 [00:00<00:00, 76.92it/s, loss=0.229]\n"
     ]
    },
    {
     "name": "stdout",
     "output_type": "stream",
     "text": [
      "Ave Loss: 0.22730130851268768\n",
      "Epoch: 59\n"
     ]
    },
    {
     "name": "stderr",
     "output_type": "stream",
     "text": [
      "100%|███████████████████████████████████████████████████████████████████████████████████████████████████████████████████████████████████████████████████████████| 5/5 [00:00<00:00, 66.67it/s, loss=0.222]\n"
     ]
    },
    {
     "name": "stdout",
     "output_type": "stream",
     "text": [
      "Ave Loss: 0.2258989304304123\n",
      "Epoch: 60\n"
     ]
    },
    {
     "name": "stderr",
     "output_type": "stream",
     "text": [
      "100%|███████████████████████████████████████████████████████████████████████████████████████████████████████████████████████████████████████████████████████████| 5/5 [00:00<00:00, 74.63it/s, loss=0.227]\n"
     ]
    },
    {
     "name": "stdout",
     "output_type": "stream",
     "text": [
      "Ave Loss: 0.2267083376646042\n",
      "Epoch: 61\n"
     ]
    },
    {
     "name": "stderr",
     "output_type": "stream",
     "text": [
      "100%|███████████████████████████████████████████████████████████████████████████████████████████████████████████████████████████████████████████████████████████| 5/5 [00:00<00:00, 70.42it/s, loss=0.228]\n"
     ]
    },
    {
     "name": "stdout",
     "output_type": "stream",
     "text": [
      "Ave Loss: 0.22602740228176116\n",
      "Epoch: 62\n"
     ]
    },
    {
     "name": "stderr",
     "output_type": "stream",
     "text": [
      "100%|███████████████████████████████████████████████████████████████████████████████████████████████████████████████████████████████████████████████████████████| 5/5 [00:00<00:00, 80.65it/s, loss=0.224]\n"
     ]
    },
    {
     "name": "stdout",
     "output_type": "stream",
     "text": [
      "Ave Loss: 0.22641009986400604\n",
      "Epoch: 63\n"
     ]
    },
    {
     "name": "stderr",
     "output_type": "stream",
     "text": [
      "100%|███████████████████████████████████████████████████████████████████████████████████████████████████████████████████████████████████████████████████████████| 5/5 [00:00<00:00, 73.53it/s, loss=0.228]\n"
     ]
    },
    {
     "name": "stdout",
     "output_type": "stream",
     "text": [
      "Ave Loss: 0.2271447777748108\n",
      "Epoch: 64\n"
     ]
    },
    {
     "name": "stderr",
     "output_type": "stream",
     "text": [
      "100%|███████████████████████████████████████████████████████████████████████████████████████████████████████████████████████████████████████████████████████████| 5/5 [00:00<00:00, 69.44it/s, loss=0.227]\n"
     ]
    },
    {
     "name": "stdout",
     "output_type": "stream",
     "text": [
      "Ave Loss: 0.22608909904956817\n",
      "Epoch: 65\n"
     ]
    },
    {
     "name": "stderr",
     "output_type": "stream",
     "text": [
      "100%|███████████████████████████████████████████████████████████████████████████████████████████████████████████████████████████████████████████████████████████| 5/5 [00:00<00:00, 69.43it/s, loss=0.221]\n"
     ]
    },
    {
     "name": "stdout",
     "output_type": "stream",
     "text": [
      "Ave Loss: 0.2257167398929596\n",
      "Epoch: 66\n"
     ]
    },
    {
     "name": "stderr",
     "output_type": "stream",
     "text": [
      "100%|███████████████████████████████████████████████████████████████████████████████████████████████████████████████████████████████████████████████████████████| 5/5 [00:00<00:00, 74.63it/s, loss=0.226]\n"
     ]
    },
    {
     "name": "stdout",
     "output_type": "stream",
     "text": [
      "Ave Loss: 0.2265831083059311\n",
      "Epoch: 67\n"
     ]
    },
    {
     "name": "stderr",
     "output_type": "stream",
     "text": [
      "100%|███████████████████████████████████████████████████████████████████████████████████████████████████████████████████████████████████████████████████████████| 5/5 [00:00<00:00, 78.13it/s, loss=0.225]\n"
     ]
    },
    {
     "name": "stdout",
     "output_type": "stream",
     "text": [
      "Ave Loss: 0.22755811512470245\n",
      "Epoch: 68\n"
     ]
    },
    {
     "name": "stderr",
     "output_type": "stream",
     "text": [
      "100%|███████████████████████████████████████████████████████████████████████████████████████████████████████████████████████████████████████████████████████████| 5/5 [00:00<00:00, 76.92it/s, loss=0.226]\n"
     ]
    },
    {
     "name": "stdout",
     "output_type": "stream",
     "text": [
      "Ave Loss: 0.22833252251148223\n",
      "Epoch: 69\n"
     ]
    },
    {
     "name": "stderr",
     "output_type": "stream",
     "text": [
      "100%|███████████████████████████████████████████████████████████████████████████████████████████████████████████████████████████████████████████████████████████| 5/5 [00:00<00:00, 74.63it/s, loss=0.231]\n"
     ]
    },
    {
     "name": "stdout",
     "output_type": "stream",
     "text": [
      "Ave Loss: 0.2294094979763031\n",
      "Epoch: 70\n"
     ]
    },
    {
     "name": "stderr",
     "output_type": "stream",
     "text": [
      "100%|███████████████████████████████████████████████████████████████████████████████████████████████████████████████████████████████████████████████████████████| 5/5 [00:00<00:00, 70.42it/s, loss=0.228]\n"
     ]
    },
    {
     "name": "stdout",
     "output_type": "stream",
     "text": [
      "Ave Loss: 0.22863772809505462\n",
      "Epoch: 71\n"
     ]
    },
    {
     "name": "stderr",
     "output_type": "stream",
     "text": [
      "100%|███████████████████████████████████████████████████████████████████████████████████████████████████████████████████████████████████████████████████████████| 5/5 [00:00<00:00, 69.44it/s, loss=0.225]\n"
     ]
    },
    {
     "name": "stdout",
     "output_type": "stream",
     "text": [
      "Ave Loss: 0.22841026782989501\n",
      "Epoch: 72\n"
     ]
    },
    {
     "name": "stderr",
     "output_type": "stream",
     "text": [
      "100%|███████████████████████████████████████████████████████████████████████████████████████████████████████████████████████████████████████████████████████████| 5/5 [00:00<00:00, 75.75it/s, loss=0.226]\n"
     ]
    },
    {
     "name": "stdout",
     "output_type": "stream",
     "text": [
      "Ave Loss: 0.2301537424325943\n",
      "Epoch: 73\n"
     ]
    },
    {
     "name": "stderr",
     "output_type": "stream",
     "text": [
      "100%|███████████████████████████████████████████████████████████████████████████████████████████████████████████████████████████████████████████████████████████| 5/5 [00:00<00:00, 65.79it/s, loss=0.228]\n"
     ]
    },
    {
     "name": "stdout",
     "output_type": "stream",
     "text": [
      "Ave Loss: 0.22912325859069824\n",
      "Epoch: 74\n"
     ]
    },
    {
     "name": "stderr",
     "output_type": "stream",
     "text": [
      "100%|███████████████████████████████████████████████████████████████████████████████████████████████████████████████████████████████████████████████████████████| 5/5 [00:00<00:00, 67.57it/s, loss=0.229]\n"
     ]
    },
    {
     "name": "stdout",
     "output_type": "stream",
     "text": [
      "Ave Loss: 0.23397083282470704\n",
      "Epoch: 75\n"
     ]
    },
    {
     "name": "stderr",
     "output_type": "stream",
     "text": [
      "100%|███████████████████████████████████████████████████████████████████████████████████████████████████████████████████████████████████████████████████████████| 5/5 [00:00<00:00, 71.54it/s, loss=0.226]\n"
     ]
    },
    {
     "name": "stdout",
     "output_type": "stream",
     "text": [
      "Ave Loss: 0.23627910017967224\n",
      "Epoch: 76\n"
     ]
    },
    {
     "name": "stderr",
     "output_type": "stream",
     "text": [
      "100%|███████████████████████████████████████████████████████████████████████████████████████████████████████████████████████████████████████████████████████████| 5/5 [00:00<00:00, 64.11it/s, loss=0.231]\n"
     ]
    },
    {
     "name": "stdout",
     "output_type": "stream",
     "text": [
      "Ave Loss: 0.24091262221336365\n",
      "Epoch: 77\n"
     ]
    },
    {
     "name": "stderr",
     "output_type": "stream",
     "text": [
      "100%|███████████████████████████████████████████████████████████████████████████████████████████████████████████████████████████████████████████████████████████| 5/5 [00:00<00:00, 72.46it/s, loss=0.231]\n"
     ]
    },
    {
     "name": "stdout",
     "output_type": "stream",
     "text": [
      "Ave Loss: 0.24207778573036193\n",
      "Epoch: 78\n"
     ]
    },
    {
     "name": "stderr",
     "output_type": "stream",
     "text": [
      "100%|███████████████████████████████████████████████████████████████████████████████████████████████████████████████████████████████████████████████████████████| 5/5 [00:00<00:00, 52.34it/s, loss=0.226]\n"
     ]
    },
    {
     "name": "stdout",
     "output_type": "stream",
     "text": [
      "Ave Loss: 0.2386414587497711\n",
      "Epoch: 79\n"
     ]
    },
    {
     "name": "stderr",
     "output_type": "stream",
     "text": [
      "100%|███████████████████████████████████████████████████████████████████████████████████████████████████████████████████████████████████████████████████████████| 5/5 [00:00<00:00, 71.43it/s, loss=0.225]\n"
     ]
    },
    {
     "name": "stdout",
     "output_type": "stream",
     "text": [
      "Ave Loss: 0.2328348070383072\n",
      "Epoch: 80\n"
     ]
    },
    {
     "name": "stderr",
     "output_type": "stream",
     "text": [
      "100%|███████████████████████████████████████████████████████████████████████████████████████████████████████████████████████████████████████████████████████████| 5/5 [00:00<00:00, 76.92it/s, loss=0.228]\n"
     ]
    },
    {
     "name": "stdout",
     "output_type": "stream",
     "text": [
      "Ave Loss: 0.2294059544801712\n",
      "Epoch: 81\n"
     ]
    },
    {
     "name": "stderr",
     "output_type": "stream",
     "text": [
      "100%|███████████████████████████████████████████████████████████████████████████████████████████████████████████████████████████████████████████████████████████| 5/5 [00:00<00:00, 70.42it/s, loss=0.224]\n"
     ]
    },
    {
     "name": "stdout",
     "output_type": "stream",
     "text": [
      "Ave Loss: 0.23208918273448945\n",
      "Epoch: 82\n"
     ]
    },
    {
     "name": "stderr",
     "output_type": "stream",
     "text": [
      "100%|███████████████████████████████████████████████████████████████████████████████████████████████████████████████████████████████████████████████████████████| 5/5 [00:00<00:00, 60.97it/s, loss=0.228]\n"
     ]
    },
    {
     "name": "stdout",
     "output_type": "stream",
     "text": [
      "Ave Loss: 0.23995103538036347\n",
      "Epoch: 83\n"
     ]
    },
    {
     "name": "stderr",
     "output_type": "stream",
     "text": [
      "100%|███████████████████████████████████████████████████████████████████████████████████████████████████████████████████████████████████████████████████████████| 5/5 [00:00<00:00, 76.92it/s, loss=0.229]\n"
     ]
    },
    {
     "name": "stdout",
     "output_type": "stream",
     "text": [
      "Ave Loss: 0.24883576929569245\n",
      "Epoch: 84\n"
     ]
    },
    {
     "name": "stderr",
     "output_type": "stream",
     "text": [
      "100%|███████████████████████████████████████████████████████████████████████████████████████████████████████████████████████████████████████████████████████████| 5/5 [00:00<00:00, 78.12it/s, loss=0.223]\n"
     ]
    },
    {
     "name": "stdout",
     "output_type": "stream",
     "text": [
      "Ave Loss: 0.2532298117876053\n",
      "Epoch: 85\n"
     ]
    },
    {
     "name": "stderr",
     "output_type": "stream",
     "text": [
      "100%|███████████████████████████████████████████████████████████████████████████████████████████████████████████████████████████████████████████████████████████| 5/5 [00:00<00:00, 81.96it/s, loss=0.223]\n"
     ]
    },
    {
     "name": "stdout",
     "output_type": "stream",
     "text": [
      "Ave Loss: 0.2518422693014145\n",
      "Epoch: 86\n"
     ]
    },
    {
     "name": "stderr",
     "output_type": "stream",
     "text": [
      "100%|███████████████████████████████████████████████████████████████████████████████████████████████████████████████████████████████████████████████████████████| 5/5 [00:00<00:00, 75.76it/s, loss=0.226]\n"
     ]
    },
    {
     "name": "stdout",
     "output_type": "stream",
     "text": [
      "Ave Loss: 0.2485971361398697\n",
      "Epoch: 87\n"
     ]
    },
    {
     "name": "stderr",
     "output_type": "stream",
     "text": [
      "100%|███████████████████████████████████████████████████████████████████████████████████████████████████████████████████████████████████████████████████████████| 5/5 [00:00<00:00, 67.08it/s, loss=0.226]\n"
     ]
    },
    {
     "name": "stdout",
     "output_type": "stream",
     "text": [
      "Ave Loss: 0.24238089323043824\n",
      "Epoch: 88\n"
     ]
    },
    {
     "name": "stderr",
     "output_type": "stream",
     "text": [
      "100%|███████████████████████████████████████████████████████████████████████████████████████████████████████████████████████████████████████████████████████████| 5/5 [00:00<00:00, 76.92it/s, loss=0.231]\n"
     ]
    },
    {
     "name": "stdout",
     "output_type": "stream",
     "text": [
      "Ave Loss: 0.24073219895362855\n",
      "Epoch: 89\n"
     ]
    },
    {
     "name": "stderr",
     "output_type": "stream",
     "text": [
      "100%|███████████████████████████████████████████████████████████████████████████████████████████████████████████████████████████████████████████████████████████| 5/5 [00:00<00:00, 72.46it/s, loss=0.225]\n"
     ]
    },
    {
     "name": "stdout",
     "output_type": "stream",
     "text": [
      "Ave Loss: 0.23915480375289916\n",
      "Epoch: 90\n"
     ]
    },
    {
     "name": "stderr",
     "output_type": "stream",
     "text": [
      "100%|███████████████████████████████████████████████████████████████████████████████████████████████████████████████████████████████████████████████████████████| 5/5 [00:00<00:00, 69.45it/s, loss=0.227]\n"
     ]
    },
    {
     "name": "stdout",
     "output_type": "stream",
     "text": [
      "Ave Loss: 0.23647256791591645\n",
      "Epoch: 91\n"
     ]
    },
    {
     "name": "stderr",
     "output_type": "stream",
     "text": [
      "100%|███████████████████████████████████████████████████████████████████████████████████████████████████████████████████████████████████████████████████████████| 5/5 [00:00<00:00, 71.43it/s, loss=0.224]\n"
     ]
    },
    {
     "name": "stdout",
     "output_type": "stream",
     "text": [
      "Ave Loss: 0.23247685432434081\n",
      "Epoch: 92\n"
     ]
    },
    {
     "name": "stderr",
     "output_type": "stream",
     "text": [
      "100%|███████████████████████████████████████████████████████████████████████████████████████████████████████████████████████████████████████████████████████████| 5/5 [00:00<00:00, 78.12it/s, loss=0.231]\n"
     ]
    },
    {
     "name": "stdout",
     "output_type": "stream",
     "text": [
      "Ave Loss: 0.23485834896564484\n",
      "Epoch: 93\n"
     ]
    },
    {
     "name": "stderr",
     "output_type": "stream",
     "text": [
      "100%|███████████████████████████████████████████████████████████████████████████████████████████████████████████████████████████████████████████████████████████| 5/5 [00:00<00:00, 23.80it/s, loss=0.223]\n"
     ]
    },
    {
     "name": "stdout",
     "output_type": "stream",
     "text": [
      "Ave Loss: 0.23928442001342773\n",
      "Epoch: 94\n"
     ]
    },
    {
     "name": "stderr",
     "output_type": "stream",
     "text": [
      "100%|███████████████████████████████████████████████████████████████████████████████████████████████████████████████████████████████████████████████████████████| 5/5 [00:00<00:00, 70.42it/s, loss=0.226]\n"
     ]
    },
    {
     "name": "stdout",
     "output_type": "stream",
     "text": [
      "Ave Loss: 0.2485243409872055\n",
      "Epoch: 95\n"
     ]
    },
    {
     "name": "stderr",
     "output_type": "stream",
     "text": [
      "100%|███████████████████████████████████████████████████████████████████████████████████████████████████████████████████████████████████████████████████████████| 5/5 [00:00<00:00, 54.35it/s, loss=0.225]\n"
     ]
    },
    {
     "name": "stdout",
     "output_type": "stream",
     "text": [
      "Ave Loss: 0.2507071942090988\n",
      "Epoch: 96\n"
     ]
    },
    {
     "name": "stderr",
     "output_type": "stream",
     "text": [
      "100%|███████████████████████████████████████████████████████████████████████████████████████████████████████████████████████████████████████████████████████████| 5/5 [00:00<00:00, 28.56it/s, loss=0.222]\n"
     ]
    },
    {
     "name": "stdout",
     "output_type": "stream",
     "text": [
      "Ave Loss: 0.24337044954299927\n",
      "Epoch: 97\n"
     ]
    },
    {
     "name": "stderr",
     "output_type": "stream",
     "text": [
      "100%|███████████████████████████████████████████████████████████████████████████████████████████████████████████████████████████████████████████████████████████| 5/5 [00:00<00:00, 65.79it/s, loss=0.232]\n"
     ]
    },
    {
     "name": "stdout",
     "output_type": "stream",
     "text": [
      "Ave Loss: 0.23600224852561952\n",
      "Epoch: 98\n"
     ]
    },
    {
     "name": "stderr",
     "output_type": "stream",
     "text": [
      "100%|███████████████████████████████████████████████████████████████████████████████████████████████████████████████████████████████████████████████████████████| 5/5 [00:00<00:00, 74.63it/s, loss=0.225]\n"
     ]
    },
    {
     "name": "stdout",
     "output_type": "stream",
     "text": [
      "Ave Loss: 0.23049634993076323\n",
      "Epoch: 99\n"
     ]
    },
    {
     "name": "stderr",
     "output_type": "stream",
     "text": [
      "100%|███████████████████████████████████████████████████████████████████████████████████████████████████████████████████████████████████████████████████████████| 5/5 [00:00<00:00, 74.62it/s, loss=0.228]"
     ]
    },
    {
     "name": "stdout",
     "output_type": "stream",
     "text": [
      "Ave Loss: 0.23160341680049895\n"
     ]
    },
    {
     "name": "stderr",
     "output_type": "stream",
     "text": [
      "\n"
     ]
    }
   ],
   "source": [
    "epochs = 100\n",
    "losses = []\n",
    "\n",
    "for epoch in range(epochs):\n",
    "    print(\"Epoch: {}\".format(epoch))\n",
    "    \n",
    "    ave_loss = train_fn(\n",
    "        train_loader,\n",
    "        model,\n",
    "        optimizer,\n",
    "        loss_fn,\n",
    "        batch_size\n",
    "    )\n",
    "    \n",
    "    losses.append(ave_loss)\n",
    "    \n",
    "    print(\"Ave Loss: {}\".format(ave_loss))\n",
    "    \n",
    "    state = { 'state_dict': model.state_dict() }\n",
    "\n",
    "    torch.save(state, \"variational-autoencoder_annthyroid_n.pth\")"
   ]
  },
  {
   "cell_type": "code",
   "execution_count": 9,
   "id": "c059bee0",
   "metadata": {},
   "outputs": [
    {
     "name": "stderr",
     "output_type": "stream",
     "text": [
      "C:\\Users\\JMARANAN\\AppData\\Local\\Temp\\ipykernel_16108\\2407897311.py:1: UserWarning: Creating a tensor from a list of numpy.ndarrays is extremely slow. Please consider converting the list to a single numpy.ndarray with numpy.array() before converting to a tensor. (Triggered internally at C:\\actions-runner\\_work\\pytorch\\pytorch\\builder\\windows\\pytorch\\torch\\csrc\\utils\\tensor_new.cpp:233.)\n",
      "  sampled_mu = torch.Tensor([np.zeros(num_features)])\n"
     ]
    }
   ],
   "source": [
    "sampled_mu = torch.Tensor([np.zeros(num_features)])\n",
    "sampled_logvar = torch.Tensor([np.zeros(num_features)])"
   ]
  },
  {
   "cell_type": "code",
   "execution_count": 10,
   "id": "2c870ce1",
   "metadata": {},
   "outputs": [
    {
     "name": "stdout",
     "output_type": "stream",
     "text": [
      "5243\n",
      "5243\n",
      "5243\n",
      "5243\n",
      "10486\n",
      "10486\n"
     ]
    }
   ],
   "source": [
    "x_train_n_list = []\n",
    "y_train_n_list = []\n",
    "for i in range(len(y_train)):\n",
    "    #print(y_train[i])\n",
    "    if y_train[i].equal(torch.tensor([0.,1.])):\n",
    "        #print(\"c\")\n",
    "        x_train_n_list.append(x_train[i])\n",
    "        y_train_n_list.append(y_train[i])\n",
    "#print(x_train_M_list)\n",
    "y_train_n = torch.stack(y_train_n_list)\n",
    "x_train_n = torch.stack(x_train_n_list)\n",
    "for i in range(len(x_train_p)-len(x_train_n)):\n",
    "    reconstruction = model.sample(sampled_mu, sampled_logvar)\n",
    "    # print(reconstruction)\n",
    "    x_train_n_list.append(reconstruction[0])\n",
    "    y_train_n_list.append(y_train_n_list[0])\n",
    "x_train_n = torch.stack(x_train_n_list)\n",
    "y_train_n = torch.stack(y_train_n_list)\n",
    "print(len(x_train_p))\n",
    "print(len(x_train_n))\n",
    "print(len(y_train_p))\n",
    "print(len(y_train_n))\n",
    "x_train_ext = torch.cat((x_train_p, x_train_n), 0)\n",
    "y_train_ext = torch.cat((y_train_p, y_train_n), 0)\n",
    "print(len(x_train_ext))\n",
    "print(len(y_train_ext))"
   ]
  },
  {
   "cell_type": "code",
   "execution_count": 11,
   "id": "7767b359",
   "metadata": {},
   "outputs": [],
   "source": [
    "class NeuralNetwork(nn.Module):\n",
    "    def __init__(self, in_dim, out_dim):\n",
    "        super().__init__()\n",
    "        self.in_dim = in_dim\n",
    "        self.out_dim = out_dim\n",
    "        \n",
    "        self.hidden_layer_1 = nn.Linear(self.in_dim, 500) # input to first hidden layer\n",
    "        self.hidden_layer_2 = nn.Linear(500, 10)\n",
    "        \n",
    "        self.multiple_layers = nn.Sequential(\n",
    "            nn.Linear(10, 10),\n",
    "            nn.Sigmoid(),\n",
    "            nn.Linear(10, 10),\n",
    "            nn.Sigmoid(),\n",
    "            nn.Linear(10, 10),\n",
    "            nn.Sigmoid(),\n",
    "            nn.Linear(10, 10),\n",
    "            nn.Sigmoid(),\n",
    "        )\n",
    "        \n",
    "        self.output_layer = nn.Linear(10, self.out_dim)\n",
    "        self.activation = nn.Sigmoid()\n",
    "    \n",
    "    def forward(self, x):\n",
    "        x = self.hidden_layer_1(x)\n",
    "        \n",
    "        x = self.hidden_layer_2(x)\n",
    "        \n",
    "        y = self.output_layer(x)\n",
    "        \n",
    "        y = self.activation(y)\n",
    "        \n",
    "        return y\n",
    "    \n",
    "class MyCustomDataset(Dataset):\n",
    "    def __init__(self, x, y):\n",
    "        self.x = x\n",
    "        self.y = y\n",
    "        \n",
    "    def __len__(self):\n",
    "        return len(self.x)\n",
    "    \n",
    "    # Requires you to return data as a pair of _x, _y\n",
    "    def __getitem__(self, index):\n",
    "        return self.x[index], self.y[index]\n",
    "    \n",
    "def one_hot_encoding(nd_array):\n",
    "        one_hot_encoding_predictions = nd_array.clone().detach()\n",
    "\n",
    "        for i in range(len(nd_array)):\n",
    "            max_pred = max(nd_array[i])\n",
    "\n",
    "            for j in range(len(nd_array[i])):\n",
    "                one_hot_encoding_predictions[i][j] = 1 if nd_array[i][j] == max_pred else 0\n",
    "\n",
    "        return one_hot_encoding_predictions\n",
    "    \n",
    "def accuracy_test(y_test, y_pred):\n",
    "    y_test = y_test.clone().detach()\n",
    "    y_pred = y_pred.clone().detach()\n",
    "    true_p = 0\n",
    "    for i in range(len(y_test)):\n",
    "        if y_test[i].equal(y_pred[i]):\n",
    "            print(y_pred[i])\n",
    "            true_p += 1\n",
    "    return true_p / len(y_test)\n",
    "\n",
    "def train_fn_eval(loader, model, optimizer, loss_fn, batch_size):\n",
    "    loop = tqdm(loader)\n",
    "    \n",
    "    count = 0\n",
    "    ave_loss = 0.00\n",
    "    \n",
    "    # Loop per batch\n",
    "    for batch_idx, (data, targets) in enumerate(loop):\n",
    "        predictions = model.forward(data)\n",
    "        \n",
    "        loss = loss_fn(predictions, targets)\n",
    "        \n",
    "        optimizer.zero_grad()\n",
    "        \n",
    "        loss.backward()\n",
    "        \n",
    "        optimizer.step()\n",
    "        \n",
    "        loop.set_postfix(loss=loss.item())\n",
    "        \n",
    "        ave_loss += loss.item()\n",
    "        count += 1\n",
    "        \n",
    "    ave_loss = ave_loss / count\n",
    "    \n",
    "    return ave_loss"
   ]
  },
  {
   "cell_type": "code",
   "execution_count": 12,
   "id": "5c0b0dd3",
   "metadata": {},
   "outputs": [
    {
     "name": "stdout",
     "output_type": "stream",
     "text": [
      "Epoch: 0\n"
     ]
    },
    {
     "name": "stderr",
     "output_type": "stream",
     "text": [
      "100%|████████████████████████████████████████████████████████████████████████████████████████████████████████████████████████████████████████████████████| 105/105 [00:01<00:00, 91.33it/s, loss=0.000205]\n"
     ]
    },
    {
     "name": "stdout",
     "output_type": "stream",
     "text": [
      "Ave Loss: 0.023699302699727316\n",
      "Epoch: 1\n"
     ]
    },
    {
     "name": "stderr",
     "output_type": "stream",
     "text": [
      "100%|███████████████████████████████████████████████████████████████████████████████████████████████████████████████████████████████████████████████████| 105/105 [00:00<00:00, 118.87it/s, loss=0.000114]\n"
     ]
    },
    {
     "name": "stdout",
     "output_type": "stream",
     "text": [
      "Ave Loss: 0.0001464595258723767\n",
      "Epoch: 2\n"
     ]
    },
    {
     "name": "stderr",
     "output_type": "stream",
     "text": [
      "100%|████████████████████████████████████████████████████████████████████████████████████████████████████████████████████████████████████████████████████| 105/105 [00:00<00:00, 118.84it/s, loss=6.96e-5]\n"
     ]
    },
    {
     "name": "stdout",
     "output_type": "stream",
     "text": [
      "Ave Loss: 8.46638896508098e-05\n",
      "Epoch: 3\n"
     ]
    },
    {
     "name": "stderr",
     "output_type": "stream",
     "text": [
      "100%|████████████████████████████████████████████████████████████████████████████████████████████████████████████████████████████████████████████████████| 105/105 [00:00<00:00, 116.59it/s, loss=4.62e-5]\n"
     ]
    },
    {
     "name": "stdout",
     "output_type": "stream",
     "text": [
      "Ave Loss: 5.374843004531049e-05\n",
      "Epoch: 4\n"
     ]
    },
    {
     "name": "stderr",
     "output_type": "stream",
     "text": [
      "100%|████████████████████████████████████████████████████████████████████████████████████████████████████████████████████████████████████████████████████| 105/105 [00:00<00:00, 110.41it/s, loss=3.27e-5]\n"
     ]
    },
    {
     "name": "stdout",
     "output_type": "stream",
     "text": [
      "Ave Loss: 3.6761891429445575e-05\n",
      "Epoch: 5\n"
     ]
    },
    {
     "name": "stderr",
     "output_type": "stream",
     "text": [
      "100%|█████████████████████████████████████████████████████████████████████████████████████████████████████████████████████████████████████████████████████| 105/105 [00:01<00:00, 96.33it/s, loss=2.42e-5]\n"
     ]
    },
    {
     "name": "stdout",
     "output_type": "stream",
     "text": [
      "Ave Loss: 2.6568194031521367e-05\n",
      "Epoch: 6\n"
     ]
    },
    {
     "name": "stderr",
     "output_type": "stream",
     "text": [
      "100%|████████████████████████████████████████████████████████████████████████████████████████████████████████████████████████████████████████████████████| 105/105 [00:00<00:00, 119.20it/s, loss=1.86e-5]\n"
     ]
    },
    {
     "name": "stdout",
     "output_type": "stream",
     "text": [
      "Ave Loss: 2.0010758895036164e-05\n",
      "Epoch: 7\n"
     ]
    },
    {
     "name": "stderr",
     "output_type": "stream",
     "text": [
      "100%|████████████████████████████████████████████████████████████████████████████████████████████████████████████████████████████████████████████████████| 105/105 [00:00<00:00, 114.50it/s, loss=1.47e-5]\n"
     ]
    },
    {
     "name": "stdout",
     "output_type": "stream",
     "text": [
      "Ave Loss: 1.5557714894904556e-05\n",
      "Epoch: 8\n"
     ]
    },
    {
     "name": "stderr",
     "output_type": "stream",
     "text": [
      "100%|████████████████████████████████████████████████████████████████████████████████████████████████████████████████████████████████████████████████████| 105/105 [00:00<00:00, 116.04it/s, loss=1.18e-5]\n"
     ]
    },
    {
     "name": "stdout",
     "output_type": "stream",
     "text": [
      "Ave Loss: 1.240161190729677e-05\n",
      "Epoch: 9\n"
     ]
    },
    {
     "name": "stderr",
     "output_type": "stream",
     "text": [
      "100%|█████████████████████████████████████████████████████████████████████████████████████████████████████████████████████████████████████████████████████| 105/105 [00:01<00:00, 100.00it/s, loss=9.7e-6]\n"
     ]
    },
    {
     "name": "stdout",
     "output_type": "stream",
     "text": [
      "Ave Loss: 1.0086230620453577e-05\n",
      "Epoch: 10\n"
     ]
    },
    {
     "name": "stderr",
     "output_type": "stream",
     "text": [
      "100%|████████████████████████████████████████████████████████████████████████████████████████████████████████████████████████████████████████████████████| 105/105 [00:01<00:00, 102.54it/s, loss=8.09e-6]\n"
     ]
    },
    {
     "name": "stdout",
     "output_type": "stream",
     "text": [
      "Ave Loss: 8.339270901896746e-06\n",
      "Epoch: 11\n"
     ]
    },
    {
     "name": "stderr",
     "output_type": "stream",
     "text": [
      "100%|████████████████████████████████████████████████████████████████████████████████████████████████████████████████████████████████████████████████████| 105/105 [00:01<00:00, 103.05it/s, loss=6.83e-6]\n"
     ]
    },
    {
     "name": "stdout",
     "output_type": "stream",
     "text": [
      "Ave Loss: 6.9911256105115175e-06\n",
      "Epoch: 12\n"
     ]
    },
    {
     "name": "stderr",
     "output_type": "stream",
     "text": [
      "100%|████████████████████████████████████████████████████████████████████████████████████████████████████████████████████████████████████████████████████| 105/105 [00:01<00:00, 104.89it/s, loss=5.82e-6]\n"
     ]
    },
    {
     "name": "stdout",
     "output_type": "stream",
     "text": [
      "Ave Loss: 5.928515513785117e-06\n",
      "Epoch: 13\n"
     ]
    },
    {
     "name": "stderr",
     "output_type": "stream",
     "text": [
      "100%|████████████████████████████████████████████████████████████████████████████████████████████████████████████████████████████████████████████████████| 105/105 [00:00<00:00, 108.88it/s, loss=5.01e-6]\n"
     ]
    },
    {
     "name": "stdout",
     "output_type": "stream",
     "text": [
      "Ave Loss: 5.077292245827959e-06\n",
      "Epoch: 14\n"
     ]
    },
    {
     "name": "stderr",
     "output_type": "stream",
     "text": [
      "100%|████████████████████████████████████████████████████████████████████████████████████████████████████████████████████████████████████████████████████| 105/105 [00:00<00:00, 117.16it/s, loss=4.35e-6]\n"
     ]
    },
    {
     "name": "stdout",
     "output_type": "stream",
     "text": [
      "Ave Loss: 4.3858661012477355e-06\n",
      "Epoch: 15\n"
     ]
    },
    {
     "name": "stderr",
     "output_type": "stream",
     "text": [
      "100%|█████████████████████████████████████████████████████████████████████████████████████████████████████████████████████████████████████████████████████| 105/105 [00:00<00:00, 109.87it/s, loss=3.8e-6]\n"
     ]
    },
    {
     "name": "stdout",
     "output_type": "stream",
     "text": [
      "Ave Loss: 3.816674979177714e-06\n",
      "Epoch: 16\n"
     ]
    },
    {
     "name": "stderr",
     "output_type": "stream",
     "text": [
      "100%|█████████████████████████████████████████████████████████████████████████████████████████████████████████████████████████████████████████████████████| 105/105 [00:01<00:00, 78.92it/s, loss=3.34e-6]\n"
     ]
    },
    {
     "name": "stdout",
     "output_type": "stream",
     "text": [
      "Ave Loss: 3.3431113825783886e-06\n",
      "Epoch: 17\n"
     ]
    },
    {
     "name": "stderr",
     "output_type": "stream",
     "text": [
      "100%|████████████████████████████████████████████████████████████████████████████████████████████████████████████████████████████████████████████████████| 105/105 [00:00<00:00, 112.75it/s, loss=2.95e-6]\n"
     ]
    },
    {
     "name": "stdout",
     "output_type": "stream",
     "text": [
      "Ave Loss: 2.9456884952932817e-06\n",
      "Epoch: 18\n"
     ]
    },
    {
     "name": "stderr",
     "output_type": "stream",
     "text": [
      "100%|████████████████████████████████████████████████████████████████████████████████████████████████████████████████████████████████████████████████████| 105/105 [00:00<00:00, 116.14it/s, loss=2.62e-6]\n"
     ]
    },
    {
     "name": "stdout",
     "output_type": "stream",
     "text": [
      "Ave Loss: 2.60792265916756e-06\n",
      "Epoch: 19\n"
     ]
    },
    {
     "name": "stderr",
     "output_type": "stream",
     "text": [
      "100%|████████████████████████████████████████████████████████████████████████████████████████████████████████████████████████████████████████████████████| 105/105 [00:00<00:00, 115.13it/s, loss=2.34e-6]\n"
     ]
    },
    {
     "name": "stdout",
     "output_type": "stream",
     "text": [
      "Ave Loss: 2.320230074864022e-06\n"
     ]
    },
    {
     "data": {
      "image/png": "[encoded data removed]",
      "text/plain": [
       "<Figure size 640x480 with 1 Axes>"
      ]
     },
     "metadata": {},
     "output_type": "display_data"
    },
    {
     "name": "stdout",
     "output_type": "stream",
     "text": [
      "tensor([0., 1.])\n",
      "tensor([0., 1.])\n",
      "tensor([0., 1.])\n",
      "tensor([0., 1.])\n",
      "tensor([0., 1.])\n",
      "tensor([0., 1.])\n",
      "tensor([0., 1.])\n",
      "tensor([0., 1.])\n",
      "tensor([0., 1.])\n",
      "tensor([0., 1.])\n",
      "tensor([0., 1.])\n",
      "tensor([0., 1.])\n",
      "tensor([0., 1.])\n",
      "tensor([0., 1.])\n",
      "tensor([0., 1.])\n",
      "tensor([0., 1.])\n",
      "tensor([0., 1.])\n",
      "tensor([0., 1.])\n",
      "tensor([0., 1.])\n",
      "tensor([0., 1.])\n",
      "tensor([0., 1.])\n",
      "tensor([0., 1.])\n",
      "tensor([0., 1.])\n",
      "tensor([0., 1.])\n",
      "tensor([0., 1.])\n",
      "tensor([0., 1.])\n",
      "tensor([0., 1.])\n",
      "tensor([0., 1.])\n",
      "tensor([0., 1.])\n",
      "tensor([0., 1.])\n",
      "tensor([0., 1.])\n",
      "tensor([0., 1.])\n",
      "tensor([0., 1.])\n",
      "tensor([0., 1.])\n",
      "tensor([0., 1.])\n",
      "tensor([0., 1.])\n",
      "tensor([0., 1.])\n",
      "tensor([0., 1.])\n",
      "tensor([0., 1.])\n",
      "tensor([0., 1.])\n",
      "tensor([0., 1.])\n",
      "tensor([0., 1.])\n",
      "tensor([0., 1.])\n",
      "tensor([0., 1.])\n",
      "tensor([0., 1.])\n",
      "tensor([0., 1.])\n",
      "tensor([0., 1.])\n",
      "tensor([0., 1.])\n",
      "tensor([0., 1.])\n",
      "tensor([0., 1.])\n",
      "tensor([0., 1.])\n",
      "tensor([0., 1.])\n",
      "tensor([0., 1.])\n",
      "tensor([0., 1.])\n",
      "tensor([0., 1.])\n",
      "tensor([0., 1.])\n",
      "tensor([0., 1.])\n",
      "tensor([0., 1.])\n",
      "tensor([0., 1.])\n",
      "tensor([0., 1.])\n",
      "tensor([0., 1.])\n",
      "tensor([0., 1.])\n",
      "tensor([0., 1.])\n",
      "tensor([0., 1.])\n",
      "tensor([0., 1.])\n",
      "tensor([0., 1.])\n",
      "tensor([0., 1.])\n",
      "tensor([0., 1.])\n",
      "tensor([0., 1.])\n",
      "tensor([0., 1.])\n",
      "tensor([0., 1.])\n",
      "tensor([0., 1.])\n",
      "tensor([0., 1.])\n",
      "tensor([0., 1.])\n",
      "tensor([0., 1.])\n",
      "tensor([0., 1.])\n",
      "tensor([0., 1.])\n",
      "tensor([0., 1.])\n",
      "tensor([0., 1.])\n",
      "tensor([0., 1.])\n",
      "tensor([0., 1.])\n",
      "tensor([0., 1.])\n",
      "tensor([0., 1.])\n",
      "tensor([0., 1.])\n",
      "tensor([0., 1.])\n",
      "tensor([0., 1.])\n",
      "tensor([0., 1.])\n",
      "tensor([0., 1.])\n",
      "tensor([0., 1.])\n",
      "tensor([0., 1.])\n",
      "tensor([0., 1.])\n",
      "tensor([0., 1.])\n",
      "tensor([0., 1.])\n",
      "tensor([0., 1.])\n",
      "tensor([0., 1.])\n",
      "tensor([0., 1.])\n",
      "tensor([0., 1.])\n",
      "tensor([0., 1.])\n",
      "tensor([0., 1.])\n",
      "tensor([0., 1.])\n",
      "tensor([0., 1.])\n",
      "tensor([0., 1.])\n",
      "tensor([0., 1.])\n",
      "tensor([0., 1.])\n",
      "tensor([0., 1.])\n",
      "tensor([0., 1.])\n",
      "tensor([0., 1.])\n",
      "tensor([0., 1.])\n",
      "tensor([0., 1.])\n",
      "tensor([0., 1.])\n",
      "tensor([0., 1.])\n",
      "tensor([0., 1.])\n",
      "tensor([0., 1.])\n",
      "tensor([0., 1.])\n",
      "tensor([0., 1.])\n",
      "tensor([0., 1.])\n",
      "tensor([0., 1.])\n",
      "tensor([0., 1.])\n",
      "tensor([0., 1.])\n",
      "tensor([0., 1.])\n",
      "tensor([0., 1.])\n",
      "tensor([0., 1.])\n",
      "tensor([0., 1.])\n",
      "tensor([0., 1.])\n",
      "tensor([0., 1.])\n",
      "tensor([0., 1.])\n",
      "tensor([0., 1.])\n",
      "tensor([0., 1.])\n",
      "tensor([0., 1.])\n",
      "tensor([0., 1.])\n",
      "tensor([0., 1.])\n",
      "tensor([0., 1.])\n",
      "tensor([0., 1.])\n",
      "tensor([0., 1.])\n",
      "tensor([0., 1.])\n",
      "tensor([0., 1.])\n",
      "tensor([0., 1.])\n",
      "tensor([0., 1.])\n",
      "tensor([0., 1.])\n",
      "tensor([0., 1.])\n",
      "tensor([0., 1.])\n",
      "tensor([0., 1.])\n",
      "tensor([0., 1.])\n",
      "tensor([0., 1.])\n",
      "tensor([0., 1.])\n",
      "tensor([0., 1.])\n",
      "tensor([0., 1.])\n",
      "tensor([0., 1.])\n",
      "tensor([0., 1.])\n",
      "tensor([0., 1.])\n",
      "tensor([0., 1.])\n",
      "tensor([0., 1.])\n",
      "tensor([0., 1.])\n",
      "tensor([0., 1.])\n",
      "tensor([0., 1.])\n",
      "tensor([0., 1.])\n",
      "tensor([0., 1.])\n",
      "tensor([0., 1.])\n",
      "tensor([0., 1.])\n",
      "tensor([0., 1.])\n",
      "tensor([0., 1.])\n",
      "tensor([0., 1.])\n",
      "tensor([0., 1.])\n",
      "tensor([0., 1.])\n",
      "tensor([0., 1.])\n",
      "tensor([0., 1.])\n",
      "tensor([0., 1.])\n",
      "tensor([0., 1.])\n",
      "tensor([0., 1.])\n",
      "tensor([0., 1.])\n",
      "tensor([0., 1.])\n",
      "tensor([0., 1.])\n",
      "tensor([0., 1.])\n",
      "tensor([0., 1.])\n",
      "tensor([0., 1.])\n",
      "tensor([0., 1.])\n",
      "tensor([0., 1.])\n",
      "tensor([0., 1.])\n",
      "tensor([0., 1.])\n",
      "tensor([0., 1.])\n",
      "tensor([0., 1.])\n",
      "tensor([0., 1.])\n",
      "tensor([0., 1.])\n",
      "tensor([0., 1.])\n",
      "tensor([0., 1.])\n",
      "tensor([0., 1.])\n",
      "tensor([0., 1.])\n",
      "tensor([0., 1.])\n",
      "tensor([0., 1.])\n",
      "tensor([0., 1.])\n",
      "tensor([0., 1.])\n",
      "tensor([0., 1.])\n",
      "tensor([0., 1.])\n",
      "tensor([0., 1.])\n",
      "tensor([0., 1.])\n",
      "tensor([0., 1.])\n",
      "tensor([0., 1.])\n",
      "tensor([0., 1.])\n",
      "tensor([0., 1.])\n",
      "tensor([0., 1.])\n",
      "tensor([0., 1.])\n",
      "tensor([0., 1.])\n",
      "tensor([0., 1.])\n",
      "tensor([0., 1.])\n",
      "tensor([0., 1.])\n",
      "tensor([0., 1.])\n",
      "tensor([0., 1.])\n",
      "tensor([0., 1.])\n",
      "tensor([0., 1.])\n",
      "tensor([0., 1.])\n",
      "tensor([0., 1.])\n",
      "tensor([0., 1.])\n",
      "tensor([0., 1.])\n",
      "tensor([0., 1.])\n",
      "tensor([0., 1.])\n",
      "tensor([0., 1.])\n",
      "tensor([0., 1.])\n",
      "tensor([0., 1.])\n",
      "tensor([0., 1.])\n",
      "tensor([0., 1.])\n",
      "tensor([0., 1.])\n",
      "tensor([0., 1.])\n",
      "tensor([0., 1.])\n",
      "tensor([0., 1.])\n",
      "tensor([0., 1.])\n",
      "tensor([0., 1.])\n",
      "tensor([0., 1.])\n",
      "tensor([0., 1.])\n",
      "tensor([0., 1.])\n",
      "tensor([0., 1.])\n",
      "tensor([0., 1.])\n",
      "tensor([0., 1.])\n",
      "tensor([0., 1.])\n",
      "tensor([0., 1.])\n",
      "tensor([0., 1.])\n",
      "tensor([0., 1.])\n",
      "tensor([0., 1.])\n",
      "tensor([0., 1.])\n",
      "tensor([0., 1.])\n",
      "tensor([0., 1.])\n",
      "tensor([0., 1.])\n",
      "tensor([0., 1.])\n",
      "tensor([0., 1.])\n",
      "tensor([0., 1.])\n",
      "tensor([0., 1.])\n",
      "tensor([0., 1.])\n",
      "tensor([0., 1.])\n",
      "tensor([0., 1.])\n",
      "tensor([0., 1.])\n",
      "tensor([0., 1.])\n",
      "tensor([0., 1.])\n",
      "tensor([0., 1.])\n",
      "tensor([0., 1.])\n",
      "tensor([0., 1.])\n",
      "tensor([0., 1.])\n",
      "tensor([0., 1.])\n",
      "tensor([0., 1.])\n",
      "tensor([0., 1.])\n",
      "tensor([0., 1.])\n",
      "tensor([0., 1.])\n",
      "tensor([0., 1.])\n",
      "tensor([0., 1.])\n",
      "tensor([0., 1.])\n",
      "tensor([0., 1.])\n",
      "tensor([0., 1.])\n",
      "tensor([0., 1.])\n",
      "tensor([0., 1.])\n",
      "tensor([0., 1.])\n",
      "tensor([0., 1.])\n",
      "tensor([0., 1.])\n",
      "tensor([0., 1.])\n",
      "tensor([0., 1.])\n",
      "tensor([0., 1.])\n",
      "tensor([0., 1.])\n",
      "tensor([0., 1.])\n",
      "tensor([0., 1.])\n",
      "tensor([0., 1.])\n",
      "tensor([0., 1.])\n",
      "tensor([0., 1.])\n",
      "tensor([0., 1.])\n",
      "tensor([0., 1.])\n",
      "tensor([0., 1.])\n",
      "tensor([0., 1.])\n",
      "tensor([0., 1.])\n",
      "tensor([0., 1.])\n",
      "tensor([0., 1.])\n",
      "tensor([0., 1.])\n",
      "tensor([0., 1.])\n",
      "tensor([0., 1.])\n",
      "tensor([0., 1.])\n",
      "tensor([0., 1.])\n",
      "tensor([0., 1.])\n",
      "tensor([0., 1.])\n",
      "tensor([0., 1.])\n",
      "tensor([0., 1.])\n",
      "tensor([0., 1.])\n",
      "tensor([0., 1.])\n",
      "tensor([0., 1.])\n",
      "tensor([0., 1.])\n",
      "tensor([0., 1.])\n",
      "tensor([0., 1.])\n",
      "tensor([0., 1.])\n",
      "tensor([0., 1.])\n",
      "tensor([0., 1.])\n",
      "tensor([0., 1.])\n",
      "tensor([0., 1.])\n",
      "tensor([0., 1.])\n",
      "tensor([0., 1.])\n",
      "tensor([0., 1.])\n",
      "tensor([0., 1.])\n",
      "tensor([0., 1.])\n",
      "tensor([0., 1.])\n",
      "tensor([0., 1.])\n",
      "tensor([0., 1.])\n",
      "tensor([0., 1.])\n",
      "tensor([0., 1.])\n",
      "tensor([0., 1.])\n",
      "tensor([0., 1.])\n",
      "tensor([0., 1.])\n",
      "tensor([0., 1.])\n",
      "tensor([0., 1.])\n",
      "tensor([0., 1.])\n",
      "tensor([0., 1.])\n",
      "tensor([0., 1.])\n",
      "tensor([0., 1.])\n",
      "tensor([0., 1.])\n",
      "tensor([0., 1.])\n",
      "tensor([0., 1.])\n",
      "tensor([0., 1.])\n",
      "tensor([0., 1.])\n",
      "tensor([0., 1.])\n",
      "tensor([0., 1.])\n",
      "tensor([0., 1.])\n",
      "tensor([0., 1.])\n",
      "tensor([0., 1.])\n",
      "tensor([0., 1.])\n",
      "tensor([0., 1.])\n",
      "tensor([0., 1.])\n",
      "tensor([0., 1.])\n",
      "tensor([0., 1.])\n",
      "tensor([0., 1.])\n",
      "tensor([0., 1.])\n",
      "tensor([0., 1.])\n",
      "tensor([0., 1.])\n",
      "tensor([0., 1.])\n",
      "tensor([0., 1.])\n",
      "tensor([0., 1.])\n",
      "tensor([0., 1.])\n",
      "tensor([0., 1.])\n",
      "tensor([0., 1.])\n",
      "tensor([0., 1.])\n",
      "tensor([0., 1.])\n",
      "tensor([0., 1.])\n",
      "tensor([0., 1.])\n",
      "tensor([0., 1.])\n",
      "tensor([0., 1.])\n",
      "tensor([0., 1.])\n",
      "tensor([0., 1.])\n",
      "tensor([0., 1.])\n",
      "tensor([0., 1.])\n",
      "tensor([0., 1.])\n",
      "tensor([0., 1.])\n",
      "tensor([0., 1.])\n",
      "tensor([0., 1.])\n",
      "tensor([0., 1.])\n",
      "tensor([0., 1.])\n",
      "tensor([0., 1.])\n",
      "tensor([0., 1.])\n",
      "tensor([0., 1.])\n",
      "tensor([0., 1.])\n",
      "tensor([0., 1.])\n",
      "tensor([0., 1.])\n",
      "tensor([0., 1.])\n",
      "tensor([0., 1.])\n",
      "tensor([0., 1.])\n",
      "tensor([0., 1.])\n",
      "tensor([0., 1.])\n",
      "tensor([0., 1.])\n",
      "tensor([0., 1.])\n",
      "tensor([0., 1.])\n",
      "tensor([0., 1.])\n",
      "tensor([0., 1.])\n",
      "tensor([0., 1.])\n",
      "tensor([0., 1.])\n",
      "tensor([0., 1.])\n",
      "tensor([0., 1.])\n",
      "tensor([0., 1.])\n",
      "tensor([0., 1.])\n",
      "tensor([0., 1.])\n",
      "tensor([0., 1.])\n",
      "tensor([0., 1.])\n",
      "tensor([0., 1.])\n",
      "tensor([0., 1.])\n",
      "tensor([0., 1.])\n",
      "tensor([0., 1.])\n",
      "tensor([0., 1.])\n",
      "tensor([0., 1.])\n",
      "tensor([0., 1.])\n",
      "tensor([0., 1.])\n",
      "tensor([0., 1.])\n",
      "tensor([0., 1.])\n",
      "tensor([0., 1.])\n",
      "tensor([0., 1.])\n",
      "tensor([0., 1.])\n",
      "tensor([0., 1.])\n",
      "tensor([0., 1.])\n",
      "tensor([0., 1.])\n",
      "tensor([0., 1.])\n",
      "tensor([0., 1.])\n",
      "tensor([0., 1.])\n",
      "tensor([0., 1.])\n",
      "tensor([0., 1.])\n",
      "tensor([0., 1.])\n",
      "tensor([0., 1.])\n",
      "tensor([0., 1.])\n",
      "tensor([0., 1.])\n",
      "tensor([0., 1.])\n",
      "tensor([0., 1.])\n",
      "tensor([0., 1.])\n",
      "tensor([0., 1.])\n",
      "tensor([0., 1.])\n",
      "tensor([0., 1.])\n",
      "tensor([0., 1.])\n",
      "tensor([0., 1.])\n",
      "tensor([0., 1.])\n",
      "tensor([0., 1.])\n",
      "tensor([0., 1.])\n",
      "tensor([0., 1.])\n",
      "tensor([0., 1.])\n",
      "tensor([0., 1.])\n",
      "tensor([0., 1.])\n",
      "tensor([0., 1.])\n",
      "tensor([0., 1.])\n",
      "tensor([0., 1.])\n",
      "tensor([0., 1.])\n",
      "tensor([0., 1.])\n",
      "tensor([0., 1.])\n",
      "tensor([0., 1.])\n",
      "tensor([0., 1.])\n",
      "tensor([0., 1.])\n",
      "tensor([0., 1.])\n",
      "tensor([0., 1.])\n",
      "tensor([0., 1.])\n",
      "tensor([0., 1.])\n",
      "tensor([0., 1.])\n",
      "tensor([0., 1.])\n",
      "tensor([0., 1.])\n",
      "tensor([0., 1.])\n",
      "tensor([0., 1.])\n",
      "tensor([0., 1.])\n",
      "tensor([0., 1.])\n",
      "tensor([0., 1.])\n",
      "tensor([0., 1.])\n",
      "tensor([0., 1.])\n",
      "tensor([0., 1.])\n",
      "tensor([0., 1.])\n",
      "tensor([0., 1.])\n",
      "tensor([0., 1.])\n",
      "tensor([0., 1.])\n",
      "tensor([0., 1.])\n",
      "tensor([0., 1.])\n",
      "tensor([0., 1.])\n",
      "tensor([0., 1.])\n",
      "tensor([0., 1.])\n",
      "tensor([0., 1.])\n",
      "tensor([0., 1.])\n",
      "tensor([0., 1.])\n",
      "tensor([0., 1.])\n",
      "tensor([0., 1.])\n",
      "tensor([0., 1.])\n",
      "tensor([0., 1.])\n",
      "tensor([0., 1.])\n",
      "tensor([0., 1.])\n",
      "tensor([0., 1.])\n",
      "tensor([0., 1.])\n",
      "tensor([0., 1.])\n",
      "tensor([0., 1.])\n",
      "tensor([0., 1.])\n",
      "tensor([0., 1.])\n",
      "tensor([0., 1.])\n",
      "tensor([0., 1.])\n",
      "tensor([0., 1.])\n",
      "tensor([0., 1.])\n",
      "tensor([0., 1.])\n",
      "tensor([0., 1.])\n",
      "tensor([0., 1.])\n",
      "tensor([0., 1.])\n",
      "tensor([0., 1.])\n",
      "tensor([0., 1.])\n",
      "tensor([0., 1.])\n",
      "tensor([0., 1.])\n",
      "tensor([0., 1.])\n",
      "tensor([0., 1.])\n",
      "tensor([0., 1.])\n",
      "tensor([0., 1.])\n",
      "tensor([0., 1.])\n",
      "tensor([0., 1.])\n",
      "tensor([0., 1.])\n",
      "tensor([0., 1.])\n",
      "tensor([0., 1.])\n",
      "tensor([0., 1.])\n",
      "tensor([0., 1.])\n",
      "tensor([0., 1.])\n",
      "tensor([0., 1.])\n",
      "tensor([0., 1.])\n",
      "tensor([0., 1.])\n",
      "tensor([0., 1.])\n",
      "tensor([0., 1.])\n",
      "tensor([0., 1.])\n",
      "tensor([0., 1.])\n",
      "tensor([0., 1.])\n",
      "tensor([0., 1.])\n",
      "tensor([0., 1.])\n",
      "tensor([0., 1.])\n",
      "tensor([0., 1.])\n",
      "tensor([0., 1.])\n",
      "tensor([0., 1.])\n",
      "tensor([0., 1.])\n",
      "tensor([0., 1.])\n",
      "tensor([0., 1.])\n",
      "tensor([0., 1.])\n",
      "tensor([0., 1.])\n",
      "tensor([0., 1.])\n",
      "tensor([0., 1.])\n",
      "tensor([0., 1.])\n",
      "tensor([0., 1.])\n",
      "tensor([0., 1.])\n",
      "tensor([0., 1.])\n",
      "tensor([0., 1.])\n",
      "tensor([0., 1.])\n",
      "tensor([0., 1.])\n",
      "tensor([0., 1.])\n",
      "tensor([0., 1.])\n",
      "tensor([0., 1.])\n",
      "tensor([0., 1.])\n",
      "tensor([0., 1.])\n",
      "tensor([0., 1.])\n",
      "tensor([0., 1.])\n",
      "tensor([0., 1.])\n",
      "tensor([0., 1.])\n",
      "tensor([0., 1.])\n",
      "tensor([0., 1.])\n",
      "tensor([0., 1.])\n",
      "tensor([0., 1.])\n",
      "tensor([0., 1.])\n",
      "tensor([0., 1.])\n",
      "tensor([0., 1.])\n",
      "tensor([0., 1.])\n",
      "tensor([0., 1.])\n",
      "tensor([0., 1.])\n",
      "tensor([0., 1.])\n",
      "tensor([0., 1.])\n",
      "tensor([0., 1.])\n",
      "tensor([0., 1.])\n",
      "tensor([0., 1.])\n",
      "tensor([0., 1.])\n",
      "tensor([0., 1.])\n",
      "tensor([0., 1.])\n",
      "tensor([0., 1.])\n",
      "tensor([0., 1.])\n",
      "tensor([0., 1.])\n",
      "tensor([0., 1.])\n",
      "tensor([0., 1.])\n",
      "tensor([0., 1.])\n",
      "tensor([0., 1.])\n",
      "tensor([0., 1.])\n",
      "tensor([0., 1.])\n",
      "tensor([0., 1.])\n",
      "tensor([0., 1.])\n",
      "tensor([0., 1.])\n",
      "tensor([0., 1.])\n",
      "tensor([0., 1.])\n",
      "tensor([0., 1.])\n",
      "tensor([0., 1.])\n",
      "tensor([0., 1.])\n",
      "tensor([0., 1.])\n",
      "tensor([0., 1.])\n",
      "tensor([0., 1.])\n",
      "tensor([0., 1.])\n",
      "tensor([0., 1.])\n",
      "tensor([0., 1.])\n",
      "tensor([0., 1.])\n",
      "tensor([0., 1.])\n",
      "tensor([0., 1.])\n",
      "tensor([0., 1.])\n",
      "tensor([0., 1.])\n",
      "tensor([0., 1.])\n",
      "tensor([0., 1.])\n",
      "tensor([0., 1.])\n",
      "tensor([0., 1.])\n",
      "tensor([0., 1.])\n",
      "tensor([0., 1.])\n",
      "tensor([0., 1.])\n",
      "tensor([0., 1.])\n",
      "tensor([0., 1.])\n",
      "tensor([0., 1.])\n"
     ]
    },
    {
     "name": "stdout",
     "output_type": "stream",
     "text": [
      "tensor([0., 1.])\n",
      "tensor([0., 1.])\n",
      "tensor([0., 1.])\n",
      "tensor([0., 1.])\n",
      "tensor([0., 1.])\n",
      "tensor([0., 1.])\n",
      "tensor([0., 1.])\n",
      "tensor([0., 1.])\n",
      "tensor([0., 1.])\n",
      "tensor([0., 1.])\n",
      "tensor([0., 1.])\n",
      "tensor([0., 1.])\n",
      "tensor([0., 1.])\n",
      "tensor([0., 1.])\n",
      "tensor([0., 1.])\n",
      "tensor([0., 1.])\n",
      "tensor([0., 1.])\n",
      "tensor([0., 1.])\n",
      "tensor([0., 1.])\n",
      "tensor([0., 1.])\n",
      "tensor([0., 1.])\n",
      "tensor([0., 1.])\n",
      "tensor([0., 1.])\n",
      "tensor([0., 1.])\n",
      "tensor([0., 1.])\n",
      "tensor([0., 1.])\n",
      "tensor([0., 1.])\n",
      "tensor([0., 1.])\n",
      "tensor([0., 1.])\n",
      "tensor([0., 1.])\n",
      "tensor([0., 1.])\n",
      "tensor([0., 1.])\n",
      "tensor([0., 1.])\n",
      "tensor([0., 1.])\n",
      "tensor([0., 1.])\n",
      "tensor([0., 1.])\n",
      "tensor([0., 1.])\n",
      "tensor([0., 1.])\n",
      "tensor([0., 1.])\n",
      "tensor([0., 1.])\n",
      "tensor([0., 1.])\n",
      "tensor([0., 1.])\n",
      "tensor([0., 1.])\n",
      "tensor([0., 1.])\n",
      "tensor([0., 1.])\n",
      "tensor([0., 1.])\n",
      "tensor([0., 1.])\n",
      "tensor([0., 1.])\n",
      "tensor([0., 1.])\n",
      "tensor([0., 1.])\n",
      "tensor([0., 1.])\n",
      "tensor([0., 1.])\n",
      "tensor([0., 1.])\n",
      "tensor([0., 1.])\n",
      "tensor([0., 1.])\n",
      "tensor([0., 1.])\n",
      "tensor([0., 1.])\n",
      "tensor([0., 1.])\n",
      "tensor([0., 1.])\n",
      "tensor([0., 1.])\n",
      "tensor([0., 1.])\n",
      "tensor([0., 1.])\n",
      "tensor([0., 1.])\n",
      "tensor([0., 1.])\n",
      "tensor([0., 1.])\n",
      "tensor([0., 1.])\n",
      "tensor([0., 1.])\n",
      "tensor([0., 1.])\n",
      "tensor([0., 1.])\n",
      "tensor([0., 1.])\n",
      "tensor([0., 1.])\n",
      "tensor([0., 1.])\n",
      "tensor([0., 1.])\n",
      "tensor([0., 1.])\n",
      "tensor([0., 1.])\n",
      "tensor([0., 1.])\n",
      "tensor([0., 1.])\n",
      "tensor([0., 1.])\n",
      "tensor([0., 1.])\n",
      "tensor([0., 1.])\n",
      "tensor([0., 1.])\n",
      "tensor([0., 1.])\n",
      "tensor([0., 1.])\n",
      "tensor([0., 1.])\n",
      "tensor([0., 1.])\n",
      "tensor([0., 1.])\n",
      "tensor([0., 1.])\n",
      "tensor([0., 1.])\n",
      "tensor([0., 1.])\n",
      "tensor([0., 1.])\n",
      "tensor([0., 1.])\n",
      "tensor([0., 1.])\n",
      "tensor([0., 1.])\n",
      "tensor([0., 1.])\n",
      "tensor([0., 1.])\n",
      "tensor([0., 1.])\n",
      "tensor([0., 1.])\n",
      "tensor([0., 1.])\n",
      "tensor([0., 1.])\n",
      "tensor([0., 1.])\n",
      "tensor([0., 1.])\n",
      "tensor([0., 1.])\n",
      "tensor([0., 1.])\n",
      "tensor([0., 1.])\n",
      "tensor([0., 1.])\n",
      "tensor([0., 1.])\n",
      "tensor([0., 1.])\n",
      "tensor([0., 1.])\n",
      "tensor([0., 1.])\n",
      "tensor([0., 1.])\n",
      "tensor([0., 1.])\n",
      "tensor([0., 1.])\n",
      "tensor([0., 1.])\n",
      "tensor([0., 1.])\n",
      "tensor([0., 1.])\n",
      "tensor([0., 1.])\n",
      "tensor([0., 1.])\n",
      "tensor([0., 1.])\n",
      "tensor([0., 1.])\n",
      "tensor([0., 1.])\n",
      "tensor([0., 1.])\n",
      "tensor([0., 1.])\n",
      "tensor([0., 1.])\n",
      "tensor([0., 1.])\n",
      "tensor([0., 1.])\n",
      "tensor([0., 1.])\n",
      "tensor([0., 1.])\n",
      "tensor([0., 1.])\n",
      "tensor([0., 1.])\n",
      "tensor([0., 1.])\n",
      "tensor([0., 1.])\n",
      "tensor([0., 1.])\n",
      "tensor([0., 1.])\n",
      "tensor([0., 1.])\n",
      "tensor([0., 1.])\n",
      "tensor([0., 1.])\n",
      "tensor([0., 1.])\n",
      "tensor([0., 1.])\n",
      "tensor([0., 1.])\n",
      "tensor([0., 1.])\n",
      "tensor([0., 1.])\n",
      "tensor([0., 1.])\n",
      "tensor([0., 1.])\n",
      "tensor([0., 1.])\n",
      "tensor([0., 1.])\n",
      "tensor([0., 1.])\n",
      "tensor([0., 1.])\n",
      "tensor([0., 1.])\n",
      "tensor([0., 1.])\n",
      "tensor([0., 1.])\n",
      "tensor([0., 1.])\n",
      "tensor([0., 1.])\n",
      "tensor([0., 1.])\n",
      "tensor([0., 1.])\n",
      "tensor([0., 1.])\n",
      "tensor([0., 1.])\n",
      "tensor([0., 1.])\n",
      "tensor([0., 1.])\n",
      "tensor([0., 1.])\n",
      "tensor([0., 1.])\n",
      "tensor([0., 1.])\n",
      "tensor([0., 1.])\n",
      "tensor([0., 1.])\n",
      "tensor([0., 1.])\n",
      "tensor([0., 1.])\n",
      "tensor([0., 1.])\n",
      "tensor([0., 1.])\n",
      "tensor([0., 1.])\n",
      "tensor([0., 1.])\n",
      "tensor([0., 1.])\n",
      "tensor([0., 1.])\n",
      "tensor([0., 1.])\n",
      "tensor([0., 1.])\n",
      "tensor([0., 1.])\n",
      "tensor([0., 1.])\n",
      "tensor([0., 1.])\n",
      "tensor([0., 1.])\n",
      "tensor([0., 1.])\n",
      "tensor([0., 1.])\n",
      "tensor([0., 1.])\n",
      "tensor([0., 1.])\n",
      "tensor([0., 1.])\n",
      "tensor([0., 1.])\n",
      "tensor([0., 1.])\n",
      "tensor([0., 1.])\n",
      "tensor([0., 1.])\n",
      "tensor([0., 1.])\n",
      "tensor([0., 1.])\n",
      "tensor([0., 1.])\n",
      "tensor([0., 1.])\n",
      "tensor([0., 1.])\n",
      "tensor([0., 1.])\n",
      "tensor([0., 1.])\n",
      "tensor([0., 1.])\n",
      "tensor([0., 1.])\n",
      "tensor([0., 1.])\n",
      "tensor([0., 1.])\n",
      "tensor([0., 1.])\n",
      "tensor([0., 1.])\n",
      "tensor([0., 1.])\n",
      "tensor([0., 1.])\n",
      "tensor([0., 1.])\n",
      "tensor([0., 1.])\n",
      "tensor([0., 1.])\n",
      "tensor([0., 1.])\n",
      "tensor([0., 1.])\n",
      "tensor([0., 1.])\n",
      "tensor([0., 1.])\n",
      "tensor([0., 1.])\n",
      "tensor([0., 1.])\n",
      "tensor([0., 1.])\n",
      "tensor([0., 1.])\n",
      "tensor([0., 1.])\n",
      "tensor([0., 1.])\n",
      "tensor([0., 1.])\n",
      "tensor([0., 1.])\n",
      "tensor([0., 1.])\n",
      "tensor([0., 1.])\n",
      "tensor([0., 1.])\n",
      "tensor([0., 1.])\n",
      "tensor([0., 1.])\n",
      "tensor([0., 1.])\n",
      "tensor([0., 1.])\n",
      "tensor([0., 1.])\n",
      "tensor([0., 1.])\n",
      "tensor([0., 1.])\n",
      "tensor([0., 1.])\n",
      "tensor([0., 1.])\n",
      "tensor([0., 1.])\n",
      "tensor([0., 1.])\n",
      "tensor([0., 1.])\n",
      "tensor([0., 1.])\n",
      "tensor([0., 1.])\n",
      "tensor([0., 1.])\n",
      "tensor([0., 1.])\n",
      "tensor([0., 1.])\n",
      "tensor([0., 1.])\n",
      "tensor([0., 1.])\n",
      "tensor([0., 1.])\n",
      "tensor([0., 1.])\n",
      "tensor([0., 1.])\n",
      "tensor([0., 1.])\n",
      "tensor([0., 1.])\n",
      "tensor([0., 1.])\n",
      "tensor([0., 1.])\n",
      "tensor([0., 1.])\n",
      "tensor([0., 1.])\n",
      "tensor([0., 1.])\n",
      "tensor([0., 1.])\n",
      "tensor([0., 1.])\n",
      "tensor([0., 1.])\n",
      "tensor([0., 1.])\n",
      "tensor([0., 1.])\n",
      "tensor([0., 1.])\n",
      "tensor([0., 1.])\n",
      "tensor([0., 1.])\n",
      "tensor([0., 1.])\n",
      "tensor([0., 1.])\n",
      "tensor([0., 1.])\n",
      "tensor([0., 1.])\n",
      "tensor([0., 1.])\n",
      "tensor([0., 1.])\n",
      "tensor([0., 1.])\n",
      "tensor([0., 1.])\n",
      "tensor([0., 1.])\n",
      "tensor([0., 1.])\n",
      "tensor([0., 1.])\n",
      "tensor([0., 1.])\n",
      "tensor([0., 1.])\n",
      "tensor([0., 1.])\n",
      "tensor([0., 1.])\n",
      "tensor([0., 1.])\n",
      "tensor([0., 1.])\n",
      "tensor([0., 1.])\n",
      "tensor([0., 1.])\n",
      "tensor([0., 1.])\n",
      "tensor([0., 1.])\n",
      "tensor([0., 1.])\n",
      "tensor([0., 1.])\n",
      "tensor([0., 1.])\n",
      "tensor([0., 1.])\n",
      "tensor([0., 1.])\n",
      "tensor([0., 1.])\n",
      "tensor([0., 1.])\n",
      "tensor([0., 1.])\n",
      "tensor([0., 1.])\n",
      "tensor([0., 1.])\n",
      "tensor([0., 1.])\n",
      "tensor([0., 1.])\n",
      "tensor([0., 1.])\n",
      "tensor([0., 1.])\n",
      "tensor([0., 1.])\n",
      "tensor([0., 1.])\n",
      "tensor([0., 1.])\n",
      "tensor([0., 1.])\n",
      "tensor([0., 1.])\n",
      "tensor([0., 1.])\n",
      "tensor([0., 1.])\n",
      "tensor([0., 1.])\n",
      "tensor([0., 1.])\n",
      "tensor([0., 1.])\n",
      "tensor([0., 1.])\n",
      "tensor([0., 1.])\n",
      "tensor([0., 1.])\n",
      "tensor([0., 1.])\n",
      "tensor([0., 1.])\n",
      "tensor([0., 1.])\n",
      "tensor([0., 1.])\n",
      "tensor([0., 1.])\n",
      "tensor([0., 1.])\n",
      "tensor([0., 1.])\n",
      "tensor([0., 1.])\n",
      "tensor([0., 1.])\n",
      "tensor([0., 1.])\n",
      "tensor([0., 1.])\n",
      "tensor([0., 1.])\n",
      "tensor([0., 1.])\n",
      "tensor([0., 1.])\n",
      "tensor([0., 1.])\n",
      "tensor([0., 1.])\n",
      "tensor([0., 1.])\n",
      "tensor([0., 1.])\n",
      "tensor([0., 1.])\n",
      "tensor([0., 1.])\n",
      "tensor([0., 1.])\n",
      "tensor([0., 1.])\n",
      "tensor([0., 1.])\n",
      "tensor([0., 1.])\n",
      "tensor([0., 1.])\n",
      "tensor([0., 1.])\n",
      "tensor([0., 1.])\n",
      "tensor([0., 1.])\n",
      "tensor([0., 1.])\n",
      "tensor([0., 1.])\n",
      "tensor([0., 1.])\n",
      "tensor([0., 1.])\n",
      "tensor([0., 1.])\n",
      "tensor([0., 1.])\n",
      "tensor([0., 1.])\n",
      "tensor([0., 1.])\n",
      "tensor([0., 1.])\n",
      "tensor([0., 1.])\n",
      "tensor([0., 1.])\n",
      "tensor([0., 1.])\n",
      "tensor([0., 1.])\n",
      "tensor([0., 1.])\n",
      "tensor([0., 1.])\n",
      "tensor([0., 1.])\n",
      "tensor([0., 1.])\n",
      "tensor([0., 1.])\n",
      "tensor([0., 1.])\n",
      "tensor([0., 1.])\n",
      "tensor([0., 1.])\n",
      "tensor([0., 1.])\n",
      "tensor([0., 1.])\n",
      "tensor([0., 1.])\n",
      "tensor([0., 1.])\n",
      "tensor([0., 1.])\n",
      "tensor([0., 1.])\n",
      "tensor([0., 1.])\n",
      "tensor([0., 1.])\n",
      "tensor([0., 1.])\n",
      "tensor([0., 1.])\n",
      "tensor([0., 1.])\n",
      "tensor([0., 1.])\n",
      "tensor([0., 1.])\n",
      "tensor([0., 1.])\n",
      "tensor([0., 1.])\n",
      "tensor([0., 1.])\n",
      "tensor([0., 1.])\n",
      "tensor([0., 1.])\n",
      "tensor([0., 1.])\n",
      "tensor([0., 1.])\n",
      "tensor([0., 1.])\n",
      "tensor([0., 1.])\n",
      "tensor([0., 1.])\n",
      "tensor([0., 1.])\n",
      "tensor([0., 1.])\n",
      "tensor([0., 1.])\n",
      "tensor([0., 1.])\n",
      "tensor([0., 1.])\n",
      "tensor([0., 1.])\n",
      "tensor([0., 1.])\n",
      "tensor([0., 1.])\n",
      "tensor([0., 1.])\n",
      "tensor([0., 1.])\n",
      "tensor([0., 1.])\n",
      "tensor([0., 1.])\n",
      "tensor([0., 1.])\n",
      "tensor([0., 1.])\n",
      "tensor([0., 1.])\n",
      "tensor([0., 1.])\n",
      "tensor([0., 1.])\n",
      "tensor([0., 1.])\n",
      "tensor([0., 1.])\n",
      "tensor([0., 1.])\n",
      "tensor([0., 1.])\n",
      "tensor([0., 1.])\n",
      "tensor([0., 1.])\n",
      "tensor([0., 1.])\n",
      "tensor([0., 1.])\n",
      "tensor([0., 1.])\n",
      "tensor([0., 1.])\n",
      "tensor([0., 1.])\n",
      "tensor([0., 1.])\n",
      "tensor([0., 1.])\n",
      "tensor([0., 1.])\n",
      "tensor([0., 1.])\n",
      "tensor([0., 1.])\n",
      "tensor([0., 1.])\n",
      "tensor([0., 1.])\n",
      "tensor([0., 1.])\n",
      "tensor([0., 1.])\n",
      "tensor([0., 1.])\n",
      "tensor([0., 1.])\n",
      "tensor([0., 1.])\n",
      "tensor([0., 1.])\n",
      "tensor([0., 1.])\n",
      "tensor([0., 1.])\n",
      "tensor([0., 1.])\n",
      "tensor([0., 1.])\n",
      "tensor([0., 1.])\n",
      "tensor([0., 1.])\n",
      "tensor([0., 1.])\n",
      "tensor([0., 1.])\n",
      "tensor([0., 1.])\n",
      "tensor([0., 1.])\n",
      "tensor([0., 1.])\n",
      "tensor([0., 1.])\n",
      "tensor([0., 1.])\n",
      "tensor([0., 1.])\n",
      "tensor([0., 1.])\n",
      "tensor([0., 1.])\n",
      "tensor([0., 1.])\n",
      "tensor([0., 1.])\n",
      "tensor([0., 1.])\n",
      "tensor([0., 1.])\n",
      "tensor([0., 1.])\n",
      "tensor([0., 1.])\n",
      "tensor([0., 1.])\n",
      "tensor([0., 1.])\n",
      "tensor([0., 1.])\n",
      "tensor([0., 1.])\n",
      "tensor([0., 1.])\n",
      "tensor([0., 1.])\n",
      "tensor([0., 1.])\n",
      "tensor([0., 1.])\n",
      "tensor([0., 1.])\n",
      "tensor([0., 1.])\n",
      "tensor([0., 1.])\n",
      "tensor([0., 1.])\n",
      "tensor([0., 1.])\n",
      "tensor([0., 1.])\n",
      "tensor([0., 1.])\n",
      "tensor([0., 1.])\n",
      "tensor([0., 1.])\n",
      "tensor([0., 1.])\n",
      "tensor([0., 1.])\n",
      "tensor([0., 1.])\n",
      "tensor([0., 1.])\n",
      "tensor([0., 1.])\n",
      "tensor([0., 1.])\n",
      "tensor([0., 1.])\n",
      "tensor([0., 1.])\n",
      "tensor([0., 1.])\n",
      "tensor([0., 1.])\n",
      "tensor([0., 1.])\n",
      "tensor([0., 1.])\n",
      "tensor([0., 1.])\n",
      "tensor([0., 1.])\n",
      "tensor([0., 1.])\n",
      "tensor([0., 1.])\n",
      "tensor([0., 1.])\n",
      "tensor([0., 1.])\n",
      "tensor([0., 1.])\n",
      "tensor([0., 1.])\n",
      "tensor([0., 1.])\n",
      "tensor([0., 1.])\n",
      "tensor([0., 1.])\n",
      "tensor([0., 1.])\n",
      "tensor([0., 1.])\n",
      "tensor([0., 1.])\n",
      "tensor([0., 1.])\n",
      "tensor([0., 1.])\n",
      "tensor([0., 1.])\n",
      "tensor([0., 1.])\n",
      "tensor([0., 1.])\n",
      "tensor([0., 1.])\n",
      "tensor([0., 1.])\n",
      "tensor([0., 1.])\n",
      "tensor([0., 1.])\n",
      "tensor([0., 1.])\n",
      "tensor([0., 1.])\n",
      "tensor([0., 1.])\n",
      "tensor([0., 1.])\n",
      "tensor([0., 1.])\n",
      "tensor([0., 1.])\n",
      "tensor([0., 1.])\n",
      "tensor([0., 1.])\n",
      "tensor([0., 1.])\n",
      "tensor([0., 1.])\n",
      "tensor([0., 1.])\n",
      "tensor([0., 1.])\n",
      "tensor([0., 1.])\n",
      "tensor([0., 1.])\n",
      "tensor([0., 1.])\n",
      "tensor([0., 1.])\n"
     ]
    },
    {
     "name": "stdout",
     "output_type": "stream",
     "text": [
      "tensor([0., 1.])\n",
      "tensor([0., 1.])\n",
      "tensor([0., 1.])\n",
      "tensor([0., 1.])\n",
      "tensor([0., 1.])\n",
      "tensor([0., 1.])\n",
      "tensor([0., 1.])\n",
      "tensor([0., 1.])\n",
      "tensor([0., 1.])\n",
      "tensor([0., 1.])\n",
      "tensor([0., 1.])\n",
      "tensor([0., 1.])\n",
      "tensor([0., 1.])\n",
      "tensor([0., 1.])\n",
      "tensor([0., 1.])\n",
      "tensor([0., 1.])\n",
      "tensor([0., 1.])\n",
      "tensor([0., 1.])\n",
      "tensor([0., 1.])\n",
      "tensor([0., 1.])\n",
      "tensor([0., 1.])\n",
      "tensor([0., 1.])\n",
      "tensor([0., 1.])\n",
      "tensor([0., 1.])\n",
      "tensor([0., 1.])\n",
      "tensor([0., 1.])\n",
      "tensor([0., 1.])\n",
      "tensor([0., 1.])\n",
      "tensor([0., 1.])\n",
      "tensor([0., 1.])\n",
      "tensor([0., 1.])\n",
      "tensor([0., 1.])\n",
      "tensor([0., 1.])\n",
      "tensor([0., 1.])\n",
      "tensor([0., 1.])\n",
      "tensor([0., 1.])\n",
      "tensor([0., 1.])\n",
      "tensor([0., 1.])\n",
      "tensor([0., 1.])\n",
      "tensor([0., 1.])\n",
      "tensor([0., 1.])\n",
      "tensor([0., 1.])\n",
      "tensor([0., 1.])\n",
      "tensor([0., 1.])\n",
      "tensor([0., 1.])\n",
      "tensor([0., 1.])\n",
      "tensor([0., 1.])\n",
      "tensor([0., 1.])\n",
      "tensor([0., 1.])\n",
      "tensor([0., 1.])\n",
      "tensor([0., 1.])\n",
      "tensor([0., 1.])\n",
      "tensor([0., 1.])\n",
      "tensor([0., 1.])\n",
      "tensor([0., 1.])\n",
      "tensor([0., 1.])\n",
      "tensor([0., 1.])\n",
      "tensor([0., 1.])\n",
      "tensor([0., 1.])\n",
      "tensor([0., 1.])\n",
      "tensor([0., 1.])\n",
      "tensor([0., 1.])\n",
      "tensor([0., 1.])\n",
      "tensor([0., 1.])\n",
      "tensor([0., 1.])\n",
      "tensor([0., 1.])\n",
      "tensor([0., 1.])\n",
      "tensor([0., 1.])\n",
      "tensor([0., 1.])\n",
      "tensor([0., 1.])\n",
      "tensor([0., 1.])\n",
      "tensor([0., 1.])\n",
      "tensor([0., 1.])\n",
      "tensor([0., 1.])\n",
      "tensor([0., 1.])\n",
      "tensor([0., 1.])\n",
      "tensor([0., 1.])\n",
      "tensor([0., 1.])\n",
      "tensor([0., 1.])\n",
      "tensor([0., 1.])\n",
      "tensor([0., 1.])\n",
      "tensor([0., 1.])\n",
      "tensor([0., 1.])\n",
      "tensor([0., 1.])\n",
      "tensor([0., 1.])\n",
      "tensor([0., 1.])\n",
      "tensor([0., 1.])\n",
      "tensor([0., 1.])\n",
      "tensor([0., 1.])\n",
      "tensor([0., 1.])\n",
      "tensor([0., 1.])\n",
      "tensor([0., 1.])\n",
      "tensor([0., 1.])\n",
      "tensor([0., 1.])\n",
      "tensor([0., 1.])\n",
      "tensor([0., 1.])\n",
      "tensor([0., 1.])\n",
      "tensor([0., 1.])\n",
      "tensor([0., 1.])\n",
      "tensor([0., 1.])\n",
      "tensor([0., 1.])\n",
      "tensor([0., 1.])\n",
      "tensor([0., 1.])\n",
      "tensor([0., 1.])\n",
      "tensor([0., 1.])\n",
      "tensor([0., 1.])\n",
      "tensor([0., 1.])\n",
      "tensor([0., 1.])\n",
      "tensor([0., 1.])\n",
      "tensor([0., 1.])\n",
      "tensor([0., 1.])\n",
      "tensor([0., 1.])\n",
      "tensor([0., 1.])\n",
      "tensor([0., 1.])\n",
      "tensor([0., 1.])\n",
      "tensor([0., 1.])\n",
      "tensor([0., 1.])\n",
      "tensor([0., 1.])\n",
      "tensor([0., 1.])\n",
      "tensor([0., 1.])\n",
      "tensor([0., 1.])\n",
      "tensor([0., 1.])\n",
      "tensor([0., 1.])\n",
      "tensor([0., 1.])\n",
      "tensor([0., 1.])\n",
      "tensor([0., 1.])\n",
      "tensor([0., 1.])\n",
      "tensor([0., 1.])\n",
      "tensor([0., 1.])\n",
      "tensor([0., 1.])\n",
      "tensor([0., 1.])\n",
      "tensor([0., 1.])\n",
      "tensor([0., 1.])\n",
      "tensor([0., 1.])\n",
      "tensor([0., 1.])\n",
      "tensor([0., 1.])\n",
      "tensor([0., 1.])\n",
      "tensor([0., 1.])\n",
      "tensor([0., 1.])\n",
      "tensor([0., 1.])\n",
      "tensor([0., 1.])\n",
      "tensor([0., 1.])\n",
      "tensor([0., 1.])\n",
      "tensor([0., 1.])\n",
      "tensor([0., 1.])\n",
      "tensor([0., 1.])\n",
      "tensor([0., 1.])\n",
      "tensor([0., 1.])\n",
      "tensor([0., 1.])\n",
      "tensor([0., 1.])\n",
      "tensor([0., 1.])\n",
      "tensor([0., 1.])\n",
      "tensor([0., 1.])\n",
      "tensor([0., 1.])\n",
      "tensor([0., 1.])\n",
      "tensor([0., 1.])\n",
      "tensor([0., 1.])\n",
      "tensor([0., 1.])\n",
      "tensor([0., 1.])\n",
      "tensor([0., 1.])\n",
      "tensor([0., 1.])\n",
      "tensor([0., 1.])\n",
      "tensor([0., 1.])\n",
      "tensor([0., 1.])\n",
      "tensor([0., 1.])\n",
      "tensor([0., 1.])\n",
      "tensor([0., 1.])\n",
      "tensor([0., 1.])\n",
      "tensor([0., 1.])\n",
      "tensor([0., 1.])\n",
      "tensor([0., 1.])\n",
      "tensor([0., 1.])\n",
      "tensor([0., 1.])\n",
      "tensor([0., 1.])\n",
      "tensor([0., 1.])\n",
      "tensor([0., 1.])\n",
      "tensor([0., 1.])\n",
      "tensor([0., 1.])\n",
      "tensor([0., 1.])\n",
      "tensor([0., 1.])\n",
      "tensor([0., 1.])\n",
      "tensor([0., 1.])\n",
      "tensor([0., 1.])\n",
      "tensor([0., 1.])\n",
      "tensor([0., 1.])\n",
      "tensor([0., 1.])\n",
      "tensor([0., 1.])\n",
      "tensor([0., 1.])\n",
      "tensor([0., 1.])\n",
      "tensor([0., 1.])\n",
      "tensor([0., 1.])\n",
      "tensor([0., 1.])\n",
      "tensor([0., 1.])\n",
      "tensor([0., 1.])\n",
      "tensor([0., 1.])\n",
      "tensor([0., 1.])\n",
      "tensor([0., 1.])\n",
      "tensor([0., 1.])\n",
      "tensor([0., 1.])\n",
      "tensor([0., 1.])\n",
      "tensor([0., 1.])\n",
      "tensor([0., 1.])\n",
      "tensor([0., 1.])\n",
      "tensor([0., 1.])\n",
      "tensor([0., 1.])\n",
      "tensor([0., 1.])\n",
      "tensor([0., 1.])\n",
      "tensor([0., 1.])\n",
      "tensor([0., 1.])\n",
      "tensor([0., 1.])\n",
      "tensor([0., 1.])\n",
      "tensor([0., 1.])\n",
      "tensor([0., 1.])\n",
      "tensor([0., 1.])\n",
      "tensor([0., 1.])\n",
      "tensor([0., 1.])\n",
      "tensor([0., 1.])\n"
     ]
    },
    {
     "data": {
      "text/plain": [
       "0.9308885754583921"
      ]
     },
     "execution_count": 12,
     "metadata": {},
     "output_type": "execute_result"
    }
   ],
   "source": [
    "model_ext = NeuralNetwork(21, 2)\n",
    "\n",
    "optimizer = optim.Adam(model_ext.parameters(), lr=learning_rate)\n",
    "x_train_ext = x_train_ext.clone().detach()\n",
    "y_train_ext = y_train_ext.clone().detach()\n",
    "custom_dataset_ext = MyCustomDataset(x=x_train_ext, y=y_train_ext)\n",
    "\n",
    "train_loader_ext = DataLoader(\n",
    "    custom_dataset_ext,\n",
    "    batch_size=batch_size,\n",
    "    shuffle=False,\n",
    "    drop_last=False\n",
    ")\n",
    "\n",
    "losses = []\n",
    "epochs = 20\n",
    "\n",
    "for epoch in range(epochs):\n",
    "    print(\"Epoch: {}\".format(epoch))\n",
    "    \n",
    "    ave_loss = train_fn_eval(\n",
    "        train_loader_ext,\n",
    "        model_ext,\n",
    "        optimizer,\n",
    "        loss_fn,\n",
    "        batch_size\n",
    "    )\n",
    "    \n",
    "    losses.append(ave_loss)\n",
    "    \n",
    "    print(\"Ave Loss: {}\".format(ave_loss))\n",
    "    \n",
    "    state = { 'state_dict': model_ext.state_dict() }\n",
    "\n",
    "    torch.save(state, \"model_annthyroid_ext.pth\")\n",
    "    \n",
    "plt.plot(losses, label='loss', color='red')\n",
    "plt.title('Training Evaluation', fontsize=14)\n",
    "plt.xlabel('Epoch', fontsize=14)\n",
    "plt.ylabel('Error Value', fontsize=14)\n",
    "plt.grid(True)\n",
    "plt.legend()\n",
    "plt.show()\n",
    "\n",
    "y_pred = one_hot_encoding(model_ext.forward(x_test))\n",
    "accuracy_test(y_test, y_pred)"
   ]
  },
  {
   "cell_type": "code",
   "execution_count": 13,
   "id": "76c1b038",
   "metadata": {},
   "outputs": [
    {
     "data": {
      "text/plain": [
       "tensor([[0., 1.],\n",
       "        [0., 1.],\n",
       "        [0., 1.],\n",
       "        ...,\n",
       "        [0., 1.],\n",
       "        [0., 1.],\n",
       "        [0., 1.]])"
      ]
     },
     "execution_count": 13,
     "metadata": {},
     "output_type": "execute_result"
    }
   ],
   "source": [
    "y_pred"
   ]
  }
 ],
 "metadata": {
  "kernelspec": {
   "display_name": "Python 3 (ipykernel)",
   "language": "python",
   "name": "python3"
  },
  "language_info": {
   "codemirror_mode": {
    "name": "ipython",
    "version": 3
   },
   "file_extension": ".py",
   "mimetype": "text/x-python",
   "name": "python",
   "nbconvert_exporter": "python",
   "pygments_lexer": "ipython3",
   "version": "3.9.12"
  }
 },
 "nbformat": 4,
 "nbformat_minor": 5
}
