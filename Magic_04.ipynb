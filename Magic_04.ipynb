{
 "cells": [
  {
   "cell_type": "code",
   "execution_count": 1,
   "id": "2b5a7e2f",
   "metadata": {},
   "outputs": [],
   "source": [
    "import pandas as pd\n",
    "import torch\n",
    "import torch.nn as nn\n",
    "import torch.optim as optim\n",
    "from tqdm import tqdm\n",
    "from torch.utils.data import Dataset, DataLoader\n",
    "import matplotlib.pyplot as plt\n",
    "from sklearn.model_selection import train_test_split\n",
    "from torchmetrics.classification import BinaryAccuracy"
   ]
  },
  {
   "cell_type": "code",
   "execution_count": 2,
   "id": "c9115427",
   "metadata": {},
   "outputs": [
    {
     "data": {
      "text/html": [
       "<div>\n",
       "<style scoped>\n",
       "    .dataframe tbody tr th:only-of-type {\n",
       "        vertical-align: middle;\n",
       "    }\n",
       "\n",
       "    .dataframe tbody tr th {\n",
       "        vertical-align: top;\n",
       "    }\n",
       "\n",
       "    .dataframe thead th {\n",
       "        text-align: right;\n",
       "    }\n",
       "</style>\n",
       "<table border=\"1\" class=\"dataframe\">\n",
       "  <thead>\n",
       "    <tr style=\"text-align: right;\">\n",
       "      <th></th>\n",
       "      <th>0</th>\n",
       "      <th>1</th>\n",
       "      <th>2</th>\n",
       "      <th>3</th>\n",
       "      <th>4</th>\n",
       "      <th>5</th>\n",
       "      <th>6</th>\n",
       "      <th>7</th>\n",
       "      <th>8</th>\n",
       "      <th>9</th>\n",
       "      <th>10</th>\n",
       "    </tr>\n",
       "  </thead>\n",
       "  <tbody>\n",
       "    <tr>\n",
       "      <th>0</th>\n",
       "      <td>0.296208</td>\n",
       "      <td>0.085816</td>\n",
       "      <td>0.406505</td>\n",
       "      <td>0.106035</td>\n",
       "      <td>0.106831</td>\n",
       "      <td>0.390870</td>\n",
       "      <td>0.657489</td>\n",
       "      <td>0.494704</td>\n",
       "      <td>0.982929</td>\n",
       "      <td>0.553649</td>\n",
       "      <td>B</td>\n",
       "    </tr>\n",
       "    <tr>\n",
       "      <th>1</th>\n",
       "      <td>0.264850</td>\n",
       "      <td>0.073442</td>\n",
       "      <td>0.227203</td>\n",
       "      <td>0.483578</td>\n",
       "      <td>0.506297</td>\n",
       "      <td>0.392227</td>\n",
       "      <td>0.410353</td>\n",
       "      <td>0.489440</td>\n",
       "      <td>0.709816</td>\n",
       "      <td>0.262033</td>\n",
       "      <td>B</td>\n",
       "    </tr>\n",
       "    <tr>\n",
       "      <th>2</th>\n",
       "      <td>0.639720</td>\n",
       "      <td>0.264542</td>\n",
       "      <td>0.443022</td>\n",
       "      <td>0.140016</td>\n",
       "      <td>0.106979</td>\n",
       "      <td>0.732251</td>\n",
       "      <td>0.415194</td>\n",
       "      <td>0.385419</td>\n",
       "      <td>0.854711</td>\n",
       "      <td>0.489160</td>\n",
       "      <td>B</td>\n",
       "    </tr>\n",
       "    <tr>\n",
       "      <th>3</th>\n",
       "      <td>0.472227</td>\n",
       "      <td>0.339511</td>\n",
       "      <td>0.609610</td>\n",
       "      <td>0.091942</td>\n",
       "      <td>0.074826</td>\n",
       "      <td>0.412321</td>\n",
       "      <td>0.285033</td>\n",
       "      <td>0.391743</td>\n",
       "      <td>0.113370</td>\n",
       "      <td>0.589703</td>\n",
       "      <td>B</td>\n",
       "    </tr>\n",
       "    <tr>\n",
       "      <th>4</th>\n",
       "      <td>0.047007</td>\n",
       "      <td>0.075485</td>\n",
       "      <td>0.208368</td>\n",
       "      <td>0.591090</td>\n",
       "      <td>0.396355</td>\n",
       "      <td>0.457517</td>\n",
       "      <td>0.590456</td>\n",
       "      <td>0.509181</td>\n",
       "      <td>0.889363</td>\n",
       "      <td>0.126393</td>\n",
       "      <td>B</td>\n",
       "    </tr>\n",
       "    <tr>\n",
       "      <th>...</th>\n",
       "      <td>...</td>\n",
       "      <td>...</td>\n",
       "      <td>...</td>\n",
       "      <td>...</td>\n",
       "      <td>...</td>\n",
       "      <td>...</td>\n",
       "      <td>...</td>\n",
       "      <td>...</td>\n",
       "      <td>...</td>\n",
       "      <td>...</td>\n",
       "      <td>...</td>\n",
       "    </tr>\n",
       "    <tr>\n",
       "      <th>18617</th>\n",
       "      <td>0.210467</td>\n",
       "      <td>0.089468</td>\n",
       "      <td>0.414991</td>\n",
       "      <td>0.219911</td>\n",
       "      <td>0.156023</td>\n",
       "      <td>0.522742</td>\n",
       "      <td>0.688964</td>\n",
       "      <td>0.495537</td>\n",
       "      <td>0.096722</td>\n",
       "      <td>0.438029</td>\n",
       "      <td>A</td>\n",
       "    </tr>\n",
       "    <tr>\n",
       "      <th>18618</th>\n",
       "      <td>0.063433</td>\n",
       "      <td>0.054588</td>\n",
       "      <td>0.117741</td>\n",
       "      <td>0.526083</td>\n",
       "      <td>0.355608</td>\n",
       "      <td>0.430602</td>\n",
       "      <td>0.567477</td>\n",
       "      <td>0.502047</td>\n",
       "      <td>0.558220</td>\n",
       "      <td>0.385304</td>\n",
       "      <td>A</td>\n",
       "    </tr>\n",
       "    <tr>\n",
       "      <th>18619</th>\n",
       "      <td>0.054826</td>\n",
       "      <td>0.025611</td>\n",
       "      <td>0.054465</td>\n",
       "      <td>0.827935</td>\n",
       "      <td>0.560083</td>\n",
       "      <td>0.418438</td>\n",
       "      <td>0.570193</td>\n",
       "      <td>0.551346</td>\n",
       "      <td>0.353000</td>\n",
       "      <td>0.555916</td>\n",
       "      <td>A</td>\n",
       "    </tr>\n",
       "    <tr>\n",
       "      <th>18620</th>\n",
       "      <td>0.093179</td>\n",
       "      <td>0.075923</td>\n",
       "      <td>0.394559</td>\n",
       "      <td>0.359814</td>\n",
       "      <td>0.244184</td>\n",
       "      <td>0.465129</td>\n",
       "      <td>0.628841</td>\n",
       "      <td>0.514169</td>\n",
       "      <td>0.008557</td>\n",
       "      <td>0.379607</td>\n",
       "      <td>A</td>\n",
       "    </tr>\n",
       "    <tr>\n",
       "      <th>18621</th>\n",
       "      <td>0.096201</td>\n",
       "      <td>0.067614</td>\n",
       "      <td>0.255736</td>\n",
       "      <td>0.320718</td>\n",
       "      <td>0.222996</td>\n",
       "      <td>0.419721</td>\n",
       "      <td>0.535821</td>\n",
       "      <td>0.500000</td>\n",
       "      <td>0.071100</td>\n",
       "      <td>0.327634</td>\n",
       "      <td>A</td>\n",
       "    </tr>\n",
       "  </tbody>\n",
       "</table>\n",
       "<p>18622 rows × 11 columns</p>\n",
       "</div>"
      ],
      "text/plain": [
       "             0         1         2         3         4         5         6   \\\n",
       "0      0.296208  0.085816  0.406505  0.106035  0.106831  0.390870  0.657489   \n",
       "1      0.264850  0.073442  0.227203  0.483578  0.506297  0.392227  0.410353   \n",
       "2      0.639720  0.264542  0.443022  0.140016  0.106979  0.732251  0.415194   \n",
       "3      0.472227  0.339511  0.609610  0.091942  0.074826  0.412321  0.285033   \n",
       "4      0.047007  0.075485  0.208368  0.591090  0.396355  0.457517  0.590456   \n",
       "...         ...       ...       ...       ...       ...       ...       ...   \n",
       "18617  0.210467  0.089468  0.414991  0.219911  0.156023  0.522742  0.688964   \n",
       "18618  0.063433  0.054588  0.117741  0.526083  0.355608  0.430602  0.567477   \n",
       "18619  0.054826  0.025611  0.054465  0.827935  0.560083  0.418438  0.570193   \n",
       "18620  0.093179  0.075923  0.394559  0.359814  0.244184  0.465129  0.628841   \n",
       "18621  0.096201  0.067614  0.255736  0.320718  0.222996  0.419721  0.535821   \n",
       "\n",
       "             7         8         9  10  \n",
       "0      0.494704  0.982929  0.553649  B  \n",
       "1      0.489440  0.709816  0.262033  B  \n",
       "2      0.385419  0.854711  0.489160  B  \n",
       "3      0.391743  0.113370  0.589703  B  \n",
       "4      0.509181  0.889363  0.126393  B  \n",
       "...         ...       ...       ... ..  \n",
       "18617  0.495537  0.096722  0.438029  A  \n",
       "18618  0.502047  0.558220  0.385304  A  \n",
       "18619  0.551346  0.353000  0.555916  A  \n",
       "18620  0.514169  0.008557  0.379607  A  \n",
       "18621  0.500000  0.071100  0.327634  A  \n",
       "\n",
       "[18622 rows x 11 columns]"
      ]
     },
     "execution_count": 2,
     "metadata": {},
     "output_type": "execute_result"
    }
   ],
   "source": [
    "df_raw = pd.read_csv(\"magic04.csv\", header=None)\n",
    "df_raw[10] = df_raw[10].apply(lambda x: 'A' if x ==1 else 'B')\n",
    "# CLASS A = 1 & CLASS B = -1\n",
    "df_raw"
   ]
  },
  {
   "cell_type": "code",
   "execution_count": 3,
   "id": "9d24f853",
   "metadata": {},
   "outputs": [],
   "source": [
    "# y = df_raw.iloc[:,-1:]\n",
    "\n",
    "# y = torch.Tensor(y.values)\n",
    "# y"
   ]
  },
  {
   "cell_type": "code",
   "execution_count": 4,
   "id": "62465529",
   "metadata": {},
   "outputs": [
    {
     "data": {
      "text/plain": [
       "tensor([[0., 1.],\n",
       "        [0., 1.],\n",
       "        [0., 1.],\n",
       "        ...,\n",
       "        [1., 0.],\n",
       "        [1., 0.],\n",
       "        [1., 0.]])"
      ]
     },
     "execution_count": 4,
     "metadata": {},
     "output_type": "execute_result"
    }
   ],
   "source": [
    "y = pd.get_dummies(df_raw.iloc[:,-1:])\n",
    "\n",
    "y = torch.Tensor(y.values)\n",
    "y"
   ]
  },
  {
   "cell_type": "code",
   "execution_count": 5,
   "id": "1af99b4d",
   "metadata": {},
   "outputs": [
    {
     "data": {
      "text/plain": [
       "tensor([[0.2962, 0.0858, 0.4065,  ..., 0.4947, 0.9829, 0.5536],\n",
       "        [0.2649, 0.0734, 0.2272,  ..., 0.4894, 0.7098, 0.2620],\n",
       "        [0.6397, 0.2645, 0.4430,  ..., 0.3854, 0.8547, 0.4892],\n",
       "        ...,\n",
       "        [0.0548, 0.0256, 0.0545,  ..., 0.5513, 0.3530, 0.5559],\n",
       "        [0.0932, 0.0759, 0.3946,  ..., 0.5142, 0.0086, 0.3796],\n",
       "        [0.0962, 0.0676, 0.2557,  ..., 0.5000, 0.0711, 0.3276]])"
      ]
     },
     "execution_count": 5,
     "metadata": {},
     "output_type": "execute_result"
    }
   ],
   "source": [
    "x = df_raw.iloc[:,0:-1]\n",
    "x = torch.Tensor(x.values)\n",
    "x"
   ]
  },
  {
   "cell_type": "code",
   "execution_count": 6,
   "id": "08e34746",
   "metadata": {},
   "outputs": [],
   "source": [
    "# class Autoencoder(nn.Module):\n",
    "#     # Layers is an array of integers representing the encoder architecture\n",
    "#     # Example: 30 --> 3 --> 30: layers = [30, 3]\n",
    "#     def __init__(self, layers):\n",
    "#         super().__init__()\n",
    "#         self.in_dim = layers[0]\n",
    "#         self.activation = nn.Sigmoid()\n",
    "#         self.layers = layers\n",
    "        \n",
    "#         # Encoder\n",
    "#         self.encoder_layers = []\n",
    "        \n",
    "#         for i in range(len(layers) - 1):\n",
    "#             self.encoder_layers.append(nn.Linear(layers[i], layers[i+1]))\n",
    "#             self.encoder_layers.append(nn.Sigmoid())\n",
    "        \n",
    "#         self.encoder_sequence = nn.Sequential(*self.encoder_layers)\n",
    "            \n",
    "#         # Decoder\n",
    "#         self.decoder_layers = []\n",
    "\n",
    "#         reversed_layers = sorted(layers, reverse=False)\n",
    "#         for i in range(len(reversed_layers) - 1):\n",
    "#             self.decoder_layers.append(nn.Linear(reversed_layers[i], reversed_layers[i+1]))\n",
    "#             self.decoder_layers.append(nn.Sigmoid())\n",
    "        \n",
    "#         self.decoder_sequence = nn.Sequential(*self.decoder_layers)\n",
    "        \n",
    "#     def encode(self, x):\n",
    "#         return self.encoder_sequence(x)\n",
    "    \n",
    "#     def decode(self, x):\n",
    "#         return self.decoder_sequence(x)\n",
    "    \n",
    "#     def forward(self, x):\n",
    "#         x = self.encode(x)\n",
    "#         y = self.decode(x)\n",
    "#         return y"
   ]
  },
  {
   "cell_type": "code",
   "execution_count": 7,
   "id": "aa374c47",
   "metadata": {},
   "outputs": [],
   "source": [
    "# model_1 = Autoencoder([10, 7, 5, 3])\n",
    "\n",
    "# print(model_1)"
   ]
  },
  {
   "cell_type": "code",
   "execution_count": 8,
   "id": "83d2811b",
   "metadata": {},
   "outputs": [],
   "source": [
    "# # Custom dataset to treat how the model picks an x, y combination from the dataset\n",
    "# class AutoencoderDataset(Dataset):\n",
    "#     def __init__(self, x):\n",
    "#         self.x = x\n",
    "        \n",
    "#     def __len__(self):\n",
    "#         return len(self.x)\n",
    "    \n",
    "#     # Requires you to return data as a pair of _x, _y\n",
    "#     def __getitem__(self, index):\n",
    "#         return self.x[index], self.x[index]"
   ]
  },
  {
   "cell_type": "code",
   "execution_count": 9,
   "id": "0cd47124",
   "metadata": {},
   "outputs": [],
   "source": [
    "# learning_rate = 0.001\n",
    "# loss_fn = nn.MSELoss()\n",
    "# optimizer = optim.Adam(model_1.parameters(), lr=learning_rate)\n",
    "# batch_size = 5"
   ]
  },
  {
   "cell_type": "code",
   "execution_count": 10,
   "id": "f97c2579",
   "metadata": {},
   "outputs": [
    {
     "data": {
      "text/plain": [
       "tensor([[1., 0.],\n",
       "        [1., 0.],\n",
       "        [1., 0.],\n",
       "        ...,\n",
       "        [1., 0.],\n",
       "        [1., 0.],\n",
       "        [0., 1.]])"
      ]
     },
     "execution_count": 10,
     "metadata": {},
     "output_type": "execute_result"
    }
   ],
   "source": [
    "ratio = 0.8\n",
    "test_size = 1 - ratio\n",
    "\n",
    "x_train, x_test, y_train, y_test = train_test_split(x, y, test_size=test_size, random_state=0)\n",
    "\n",
    "y_train"
   ]
  },
  {
   "cell_type": "code",
   "execution_count": 11,
   "id": "83330ca9",
   "metadata": {},
   "outputs": [],
   "source": [
    "class NeuralNetwork(nn.Module):\n",
    "    def __init__(self, in_dim, out_dim):\n",
    "        super().__init__()\n",
    "        self.in_dim = in_dim\n",
    "        self.out_dim = out_dim\n",
    "        self.hidden_layer_1 = nn.Linear(self.in_dim,7)\n",
    "        self.hidden_layer_2 = nn.Linear(7,4)\n",
    "        self.hidden_layer_3 = nn.Linear(4,3)\n",
    "        self.output_layer = nn.Linear(3,self.out_dim)\n",
    "        self.activation = nn.Sigmoid()\n",
    "\n",
    "    def forward(self, x):\n",
    "        i = self.hidden_layer_1(x)\n",
    "        i = self.activation(i)\n",
    "        \n",
    "        j = self.hidden_layer_2(i)\n",
    "        j = self.activation(j)\n",
    "        \n",
    "        k = self.hidden_layer_3(j)\n",
    "        k = self.activation(k)\n",
    "        \n",
    "        \n",
    "        l = self.output_layer(k)\n",
    "        l = self.activation(l)\n",
    "        return l\n",
    "    "
   ]
  },
  {
   "cell_type": "code",
   "execution_count": 12,
   "id": "aab71331",
   "metadata": {},
   "outputs": [
    {
     "data": {
      "text/plain": [
       "tensor([[0.5990, 0.4488],\n",
       "        [0.5990, 0.4488],\n",
       "        [0.5990, 0.4488],\n",
       "        ...,\n",
       "        [0.5990, 0.4489],\n",
       "        [0.5990, 0.4489],\n",
       "        [0.5990, 0.4488]], grad_fn=<SigmoidBackward0>)"
      ]
     },
     "execution_count": 12,
     "metadata": {},
     "output_type": "execute_result"
    }
   ],
   "source": [
    "# model = NeuralNetwork(30,2)\n",
    "\n",
    "# # Test Stucture of Model\n",
    "# predictions = model.forward(x)\n",
    "\n",
    "# predictions\n",
    "\n",
    "# Refactor the code to train neural network with training data\n",
    "\n",
    "model = NeuralNetwork(10,2)\n",
    "\n",
    "# Test Stucture of Model\n",
    "predictions = model.forward(x_train)\n",
    "\n",
    "predictions"
   ]
  },
  {
   "cell_type": "code",
   "execution_count": 13,
   "id": "907d8e79",
   "metadata": {},
   "outputs": [
    {
     "data": {
      "text/plain": [
       "tensor([[1., 0.],\n",
       "        [1., 0.],\n",
       "        [1., 0.],\n",
       "        ...,\n",
       "        [1., 0.],\n",
       "        [1., 0.],\n",
       "        [1., 0.]], grad_fn=<CopySlices>)"
      ]
     },
     "execution_count": 13,
     "metadata": {},
     "output_type": "execute_result"
    }
   ],
   "source": [
    "def one_hot_encoding(nd_array):\n",
    "    one_hot_encoding_predictions = nd_array\n",
    "\n",
    "    for i in range(len(nd_array)):\n",
    "        max_pred = max(nd_array[i])\n",
    "\n",
    "        for j in range(len(nd_array[i])):\n",
    "            one_hot_encoding_predictions[i][j] = 1 if nd_array[i][j] == max_pred else 0\n",
    "\n",
    "    return one_hot_encoding_predictions\n",
    "\n",
    "predictions = one_hot_encoding(predictions)\n",
    "predictions"
   ]
  },
  {
   "cell_type": "code",
   "execution_count": 20,
   "id": "acc40f29",
   "metadata": {},
   "outputs": [],
   "source": [
    "learning_rate = 0.0009\n",
    "loss_fn = nn.MSELoss()\n",
    "optimizer = optim.Adam(model.parameters(), lr = learning_rate)\n",
    "batch_size = 5 #faster training, high mem consumption"
   ]
  },
  {
   "cell_type": "code",
   "execution_count": 18,
   "id": "269bd30d",
   "metadata": {},
   "outputs": [],
   "source": [
    "# Custom dataset to treat how the model picks an x, y combination from the dataset\n",
    "class MyCustomDataset(Dataset):\n",
    "    def __init__(self, x, y):\n",
    "        self.x = x\n",
    "        self.y = y\n",
    "        \n",
    "    def __len__(self):\n",
    "        return len(self.x)\n",
    "    \n",
    "    # Requires you to return data as a pair of _x, _y\n",
    "    def __getitem__(self, index):\n",
    "        return self.x[index], self.y[index]"
   ]
  },
  {
   "cell_type": "code",
   "execution_count": 19,
   "id": "18e4e699",
   "metadata": {},
   "outputs": [
    {
     "name": "stdout",
     "output_type": "stream",
     "text": [
      "Epoch: 0\n"
     ]
    },
    {
     "name": "stderr",
     "output_type": "stream",
     "text": [
      "100%|█████████████████████████████████████████████████████████████████████████████████████████████████████████████████████| 2980/2980 [00:19<00:00, 153.87it/s, loss=0.131]\n"
     ]
    },
    {
     "name": "stdout",
     "output_type": "stream",
     "text": [
      "Ave Loss: 0.2122992177437616\n",
      "Epoch: 1\n"
     ]
    },
    {
     "name": "stderr",
     "output_type": "stream",
     "text": [
      "100%|████████████████████████████████████████████████████████████████████████████████████████████████████████████████████| 2980/2980 [00:19<00:00, 151.87it/s, loss=0.0543]\n"
     ]
    },
    {
     "name": "stdout",
     "output_type": "stream",
     "text": [
      "Ave Loss: 0.1642936030690302\n",
      "Epoch: 2\n"
     ]
    },
    {
     "name": "stderr",
     "output_type": "stream",
     "text": [
      "100%|████████████████████████████████████████████████████████████████████████████████████████████████████████████████████| 2980/2980 [00:19<00:00, 149.24it/s, loss=0.0391]\n"
     ]
    },
    {
     "name": "stdout",
     "output_type": "stream",
     "text": [
      "Ave Loss: 0.15643483673991174\n",
      "Epoch: 3\n"
     ]
    },
    {
     "name": "stderr",
     "output_type": "stream",
     "text": [
      "100%|████████████████████████████████████████████████████████████████████████████████████████████████████████████████████| 2980/2980 [00:19<00:00, 150.59it/s, loss=0.0333]\n"
     ]
    },
    {
     "name": "stdout",
     "output_type": "stream",
     "text": [
      "Ave Loss: 0.15481338160012492\n",
      "Epoch: 4\n"
     ]
    },
    {
     "name": "stderr",
     "output_type": "stream",
     "text": [
      "100%|████████████████████████████████████████████████████████████████████████████████████████████████████████████████████| 2980/2980 [00:19<00:00, 151.24it/s, loss=0.0299]\n"
     ]
    },
    {
     "name": "stdout",
     "output_type": "stream",
     "text": [
      "Ave Loss: 0.1538130650178048\n",
      "Epoch: 5\n"
     ]
    },
    {
     "name": "stderr",
     "output_type": "stream",
     "text": [
      "100%|████████████████████████████████████████████████████████████████████████████████████████████████████████████████████| 2980/2980 [00:19<00:00, 151.46it/s, loss=0.0274]\n"
     ]
    },
    {
     "name": "stdout",
     "output_type": "stream",
     "text": [
      "Ave Loss: 0.15299697278923785\n",
      "Epoch: 6\n"
     ]
    },
    {
     "name": "stderr",
     "output_type": "stream",
     "text": [
      "100%|████████████████████████████████████████████████████████████████████████████████████████████████████████████████████| 2980/2980 [00:19<00:00, 155.67it/s, loss=0.0253]\n"
     ]
    },
    {
     "name": "stdout",
     "output_type": "stream",
     "text": [
      "Ave Loss: 0.1522151489870235\n",
      "Epoch: 7\n"
     ]
    },
    {
     "name": "stderr",
     "output_type": "stream",
     "text": [
      "100%|████████████████████████████████████████████████████████████████████████████████████████████████████████████████████| 2980/2980 [00:18<00:00, 157.16it/s, loss=0.0233]\n"
     ]
    },
    {
     "name": "stdout",
     "output_type": "stream",
     "text": [
      "Ave Loss: 0.1513283335878795\n",
      "Epoch: 8\n"
     ]
    },
    {
     "name": "stderr",
     "output_type": "stream",
     "text": [
      "100%|████████████████████████████████████████████████████████████████████████████████████████████████████████████████████| 2980/2980 [00:18<00:00, 161.63it/s, loss=0.0212]\n"
     ]
    },
    {
     "name": "stdout",
     "output_type": "stream",
     "text": [
      "Ave Loss: 0.1501777211701085\n",
      "Epoch: 9\n"
     ]
    },
    {
     "name": "stderr",
     "output_type": "stream",
     "text": [
      "100%|████████████████████████████████████████████████████████████████████████████████████████████████████████████████████| 2980/2980 [00:18<00:00, 158.58it/s, loss=0.0192]\n"
     ]
    },
    {
     "name": "stdout",
     "output_type": "stream",
     "text": [
      "Ave Loss: 0.14860107109025622\n",
      "Epoch: 10\n"
     ]
    },
    {
     "name": "stderr",
     "output_type": "stream",
     "text": [
      "100%|████████████████████████████████████████████████████████████████████████████████████████████████████████████████████| 2980/2980 [00:18<00:00, 156.93it/s, loss=0.0171]\n"
     ]
    },
    {
     "name": "stdout",
     "output_type": "stream",
     "text": [
      "Ave Loss: 0.1465073087593328\n",
      "Epoch: 11\n"
     ]
    },
    {
     "name": "stderr",
     "output_type": "stream",
     "text": [
      "100%|████████████████████████████████████████████████████████████████████████████████████████████████████████████████████| 2980/2980 [00:18<00:00, 157.09it/s, loss=0.0152]\n"
     ]
    },
    {
     "name": "stdout",
     "output_type": "stream",
     "text": [
      "Ave Loss: 0.14399510776755345\n",
      "Epoch: 12\n"
     ]
    },
    {
     "name": "stderr",
     "output_type": "stream",
     "text": [
      "100%|████████████████████████████████████████████████████████████████████████████████████████████████████████████████████| 2980/2980 [00:19<00:00, 156.06it/s, loss=0.0134]\n"
     ]
    },
    {
     "name": "stdout",
     "output_type": "stream",
     "text": [
      "Ave Loss: 0.1413469105437023\n",
      "Epoch: 13\n"
     ]
    },
    {
     "name": "stderr",
     "output_type": "stream",
     "text": [
      "100%|████████████████████████████████████████████████████████████████████████████████████████████████████████████████████| 2980/2980 [00:19<00:00, 150.53it/s, loss=0.0119]\n"
     ]
    },
    {
     "name": "stdout",
     "output_type": "stream",
     "text": [
      "Ave Loss: 0.13883431542027216\n",
      "Epoch: 14\n"
     ]
    },
    {
     "name": "stderr",
     "output_type": "stream",
     "text": [
      "100%|████████████████████████████████████████████████████████████████████████████████████████████████████████████████████| 2980/2980 [00:20<00:00, 148.41it/s, loss=0.0107]\n"
     ]
    },
    {
     "name": "stdout",
     "output_type": "stream",
     "text": [
      "Ave Loss: 0.13658401779533558\n",
      "Epoch: 15\n"
     ]
    },
    {
     "name": "stderr",
     "output_type": "stream",
     "text": [
      "100%|████████████████████████████████████████████████████████████████████████████████████████████████████████████████████| 2980/2980 [00:20<00:00, 147.70it/s, loss=0.0096]\n"
     ]
    },
    {
     "name": "stdout",
     "output_type": "stream",
     "text": [
      "Ave Loss: 0.1345976673174437\n",
      "Epoch: 16\n"
     ]
    },
    {
     "name": "stderr",
     "output_type": "stream",
     "text": [
      "100%|███████████████████████████████████████████████████████████████████████████████████████████████████████████████████| 2980/2980 [00:21<00:00, 141.83it/s, loss=0.00868]\n"
     ]
    },
    {
     "name": "stdout",
     "output_type": "stream",
     "text": [
      "Ave Loss: 0.13281735434750058\n",
      "Epoch: 17\n"
     ]
    },
    {
     "name": "stderr",
     "output_type": "stream",
     "text": [
      "100%|███████████████████████████████████████████████████████████████████████████████████████████████████████████████████| 2980/2980 [00:21<00:00, 140.06it/s, loss=0.00786]\n"
     ]
    },
    {
     "name": "stdout",
     "output_type": "stream",
     "text": [
      "Ave Loss: 0.13117174032369266\n",
      "Epoch: 18\n"
     ]
    },
    {
     "name": "stderr",
     "output_type": "stream",
     "text": [
      "100%|███████████████████████████████████████████████████████████████████████████████████████████████████████████████████| 2980/2980 [00:20<00:00, 142.64it/s, loss=0.00712]\n"
     ]
    },
    {
     "name": "stdout",
     "output_type": "stream",
     "text": [
      "Ave Loss: 0.12960250318634806\n",
      "Epoch: 19\n"
     ]
    },
    {
     "name": "stderr",
     "output_type": "stream",
     "text": [
      "100%|███████████████████████████████████████████████████████████████████████████████████████████████████████████████████| 2980/2980 [00:20<00:00, 147.87it/s, loss=0.00643]\n"
     ]
    },
    {
     "name": "stdout",
     "output_type": "stream",
     "text": [
      "Ave Loss: 0.1280811669078387\n",
      "Epoch: 20\n"
     ]
    },
    {
     "name": "stderr",
     "output_type": "stream",
     "text": [
      "100%|███████████████████████████████████████████████████████████████████████████████████████████████████████████████████| 2980/2980 [00:21<00:00, 141.85it/s, loss=0.00582]\n"
     ]
    },
    {
     "name": "stdout",
     "output_type": "stream",
     "text": [
      "Ave Loss: 0.12661724032227875\n",
      "Epoch: 21\n"
     ]
    },
    {
     "name": "stderr",
     "output_type": "stream",
     "text": [
      "100%|███████████████████████████████████████████████████████████████████████████████████████████████████████████████████| 2980/2980 [00:20<00:00, 143.47it/s, loss=0.00529]\n"
     ]
    },
    {
     "name": "stdout",
     "output_type": "stream",
     "text": [
      "Ave Loss: 0.12525041011949664\n",
      "Epoch: 22\n"
     ]
    },
    {
     "name": "stderr",
     "output_type": "stream",
     "text": [
      "100%|███████████████████████████████████████████████████████████████████████████████████████████████████████████████████| 2980/2980 [00:20<00:00, 144.84it/s, loss=0.00485]\n"
     ]
    },
    {
     "name": "stdout",
     "output_type": "stream",
     "text": [
      "Ave Loss: 0.12402649513959897\n",
      "Epoch: 23\n"
     ]
    },
    {
     "name": "stderr",
     "output_type": "stream",
     "text": [
      "100%|███████████████████████████████████████████████████████████████████████████████████████████████████████████████████| 2980/2980 [00:20<00:00, 145.53it/s, loss=0.00449]\n"
     ]
    },
    {
     "name": "stdout",
     "output_type": "stream",
     "text": [
      "Ave Loss: 0.12297296961187384\n",
      "Epoch: 24\n"
     ]
    },
    {
     "name": "stderr",
     "output_type": "stream",
     "text": [
      "100%|███████████████████████████████████████████████████████████████████████████████████████████████████████████████████| 2980/2980 [00:21<00:00, 140.36it/s, loss=0.00422]\n"
     ]
    },
    {
     "name": "stdout",
     "output_type": "stream",
     "text": [
      "Ave Loss: 0.1220906421100727\n",
      "Epoch: 25\n"
     ]
    },
    {
     "name": "stderr",
     "output_type": "stream",
     "text": [
      "100%|███████████████████████████████████████████████████████████████████████████████████████████████████████████████████| 2980/2980 [00:20<00:00, 144.07it/s, loss=0.00402]\n"
     ]
    },
    {
     "name": "stdout",
     "output_type": "stream",
     "text": [
      "Ave Loss: 0.12136108018625871\n",
      "Epoch: 26\n"
     ]
    },
    {
     "name": "stderr",
     "output_type": "stream",
     "text": [
      "100%|███████████████████████████████████████████████████████████████████████████████████████████████████████████████████| 2980/2980 [00:20<00:00, 144.19it/s, loss=0.00389]\n"
     ]
    },
    {
     "name": "stdout",
     "output_type": "stream",
     "text": [
      "Ave Loss: 0.12075820633150862\n",
      "Epoch: 27\n"
     ]
    },
    {
     "name": "stderr",
     "output_type": "stream",
     "text": [
      "100%|████████████████████████████████████████████████████████████████████████████████████████████████████████████████████| 2980/2980 [00:20<00:00, 144.88it/s, loss=0.0038]\n"
     ]
    },
    {
     "name": "stdout",
     "output_type": "stream",
     "text": [
      "Ave Loss: 0.12025627235971054\n",
      "Epoch: 28\n"
     ]
    },
    {
     "name": "stderr",
     "output_type": "stream",
     "text": [
      "100%|███████████████████████████████████████████████████████████████████████████████████████████████████████████████████| 2980/2980 [00:23<00:00, 129.21it/s, loss=0.00374]\n"
     ]
    },
    {
     "name": "stdout",
     "output_type": "stream",
     "text": [
      "Ave Loss: 0.1198332875852173\n",
      "Epoch: 29\n"
     ]
    },
    {
     "name": "stderr",
     "output_type": "stream",
     "text": [
      "100%|███████████████████████████████████████████████████████████████████████████████████████████████████████████████████| 2980/2980 [00:20<00:00, 142.07it/s, loss=0.00372]\n"
     ]
    },
    {
     "name": "stdout",
     "output_type": "stream",
     "text": [
      "Ave Loss: 0.11947170527118271\n",
      "Epoch: 30\n"
     ]
    },
    {
     "name": "stderr",
     "output_type": "stream",
     "text": [
      "100%|███████████████████████████████████████████████████████████████████████████████████████████████████████████████████| 2980/2980 [00:21<00:00, 138.71it/s, loss=0.00372]\n"
     ]
    },
    {
     "name": "stdout",
     "output_type": "stream",
     "text": [
      "Ave Loss: 0.11915793225912208\n",
      "Epoch: 31\n"
     ]
    },
    {
     "name": "stderr",
     "output_type": "stream",
     "text": [
      "100%|███████████████████████████████████████████████████████████████████████████████████████████████████████████████████| 2980/2980 [00:20<00:00, 142.20it/s, loss=0.00373]\n"
     ]
    },
    {
     "name": "stdout",
     "output_type": "stream",
     "text": [
      "Ave Loss: 0.11888157367966476\n",
      "Epoch: 32\n"
     ]
    },
    {
     "name": "stderr",
     "output_type": "stream",
     "text": [
      "100%|███████████████████████████████████████████████████████████████████████████████████████████████████████████████████| 2980/2980 [00:20<00:00, 144.38it/s, loss=0.00376]\n"
     ]
    },
    {
     "name": "stdout",
     "output_type": "stream",
     "text": [
      "Ave Loss: 0.11863469299329008\n",
      "Epoch: 33\n"
     ]
    },
    {
     "name": "stderr",
     "output_type": "stream",
     "text": [
      "100%|███████████████████████████████████████████████████████████████████████████████████████████████████████████████████| 2980/2980 [00:20<00:00, 142.40it/s, loss=0.00379]\n"
     ]
    },
    {
     "name": "stdout",
     "output_type": "stream",
     "text": [
      "Ave Loss: 0.1184112033504374\n",
      "Epoch: 34\n"
     ]
    },
    {
     "name": "stderr",
     "output_type": "stream",
     "text": [
      "100%|███████████████████████████████████████████████████████████████████████████████████████████████████████████████████| 2980/2980 [00:20<00:00, 143.40it/s, loss=0.00383]\n"
     ]
    },
    {
     "name": "stdout",
     "output_type": "stream",
     "text": [
      "Ave Loss: 0.1182064010203041\n",
      "Epoch: 35\n"
     ]
    },
    {
     "name": "stderr",
     "output_type": "stream",
     "text": [
      "100%|███████████████████████████████████████████████████████████████████████████████████████████████████████████████████| 2980/2980 [00:20<00:00, 145.11it/s, loss=0.00387]\n"
     ]
    },
    {
     "name": "stdout",
     "output_type": "stream",
     "text": [
      "Ave Loss: 0.11801661539708745\n",
      "Epoch: 36\n"
     ]
    },
    {
     "name": "stderr",
     "output_type": "stream",
     "text": [
      "100%|███████████████████████████████████████████████████████████████████████████████████████████████████████████████████| 2980/2980 [00:21<00:00, 141.73it/s, loss=0.00391]\n"
     ]
    },
    {
     "name": "stdout",
     "output_type": "stream",
     "text": [
      "Ave Loss: 0.1178389619342278\n",
      "Epoch: 37\n"
     ]
    },
    {
     "name": "stderr",
     "output_type": "stream",
     "text": [
      "100%|███████████████████████████████████████████████████████████████████████████████████████████████████████████████████| 2980/2980 [00:20<00:00, 147.53it/s, loss=0.00396]\n"
     ]
    },
    {
     "name": "stdout",
     "output_type": "stream",
     "text": [
      "Ave Loss: 0.11767114587040264\n",
      "Epoch: 38\n"
     ]
    },
    {
     "name": "stderr",
     "output_type": "stream",
     "text": [
      "100%|█████████████████████████████████████████████████████████████████████████████████████████████████████████████████████| 2980/2980 [00:20<00:00, 146.76it/s, loss=0.004]\n"
     ]
    },
    {
     "name": "stdout",
     "output_type": "stream",
     "text": [
      "Ave Loss: 0.11751133088294366\n",
      "Epoch: 39\n"
     ]
    },
    {
     "name": "stderr",
     "output_type": "stream",
     "text": [
      "100%|███████████████████████████████████████████████████████████████████████████████████████████████████████████████████| 2980/2980 [00:20<00:00, 148.16it/s, loss=0.00405]\n"
     ]
    },
    {
     "name": "stdout",
     "output_type": "stream",
     "text": [
      "Ave Loss: 0.11735802277459313\n",
      "Epoch: 40\n"
     ]
    },
    {
     "name": "stderr",
     "output_type": "stream",
     "text": [
      "100%|███████████████████████████████████████████████████████████████████████████████████████████████████████████████████| 2980/2980 [00:21<00:00, 138.98it/s, loss=0.00409]\n"
     ]
    },
    {
     "name": "stdout",
     "output_type": "stream",
     "text": [
      "Ave Loss: 0.11720999831155227\n",
      "Epoch: 41\n"
     ]
    },
    {
     "name": "stderr",
     "output_type": "stream",
     "text": [
      "100%|███████████████████████████████████████████████████████████████████████████████████████████████████████████████████| 2980/2980 [00:21<00:00, 136.95it/s, loss=0.00413]\n"
     ]
    },
    {
     "name": "stdout",
     "output_type": "stream",
     "text": [
      "Ave Loss: 0.11706626058340107\n",
      "Epoch: 42\n"
     ]
    },
    {
     "name": "stderr",
     "output_type": "stream",
     "text": [
      "100%|███████████████████████████████████████████████████████████████████████████████████████████████████████████████████| 2980/2980 [00:20<00:00, 144.21it/s, loss=0.00417]\n"
     ]
    },
    {
     "name": "stdout",
     "output_type": "stream",
     "text": [
      "Ave Loss: 0.1169259665459285\n",
      "Epoch: 43\n"
     ]
    },
    {
     "name": "stderr",
     "output_type": "stream",
     "text": [
      "100%|████████████████████████████████████████████████████████████████████████████████████████████████████████████████████| 2980/2980 [00:20<00:00, 146.98it/s, loss=0.0042]\n"
     ]
    },
    {
     "name": "stdout",
     "output_type": "stream",
     "text": [
      "Ave Loss: 0.11678842150824201\n",
      "Epoch: 44\n"
     ]
    },
    {
     "name": "stderr",
     "output_type": "stream",
     "text": [
      "100%|███████████████████████████████████████████████████████████████████████████████████████████████████████████████████| 2980/2980 [00:20<00:00, 144.70it/s, loss=0.00424]\n"
     ]
    },
    {
     "name": "stdout",
     "output_type": "stream",
     "text": [
      "Ave Loss: 0.11665302646600707\n",
      "Epoch: 45\n"
     ]
    },
    {
     "name": "stderr",
     "output_type": "stream",
     "text": [
      "100%|███████████████████████████████████████████████████████████████████████████████████████████████████████████████████| 2980/2980 [00:20<00:00, 142.10it/s, loss=0.00427]\n"
     ]
    },
    {
     "name": "stdout",
     "output_type": "stream",
     "text": [
      "Ave Loss: 0.1165192718524642\n",
      "Epoch: 46\n"
     ]
    },
    {
     "name": "stderr",
     "output_type": "stream",
     "text": [
      "100%|████████████████████████████████████████████████████████████████████████████████████████████████████████████████████| 2980/2980 [00:20<00:00, 147.52it/s, loss=0.0043]\n"
     ]
    },
    {
     "name": "stdout",
     "output_type": "stream",
     "text": [
      "Ave Loss: 0.11638673072270252\n",
      "Epoch: 47\n"
     ]
    },
    {
     "name": "stderr",
     "output_type": "stream",
     "text": [
      "100%|███████████████████████████████████████████████████████████████████████████████████████████████████████████████████| 2980/2980 [00:20<00:00, 143.86it/s, loss=0.00433]\n"
     ]
    },
    {
     "name": "stdout",
     "output_type": "stream",
     "text": [
      "Ave Loss: 0.11625501217243212\n",
      "Epoch: 48\n"
     ]
    },
    {
     "name": "stderr",
     "output_type": "stream",
     "text": [
      "100%|███████████████████████████████████████████████████████████████████████████████████████████████████████████████████| 2980/2980 [00:20<00:00, 142.46it/s, loss=0.00435]\n"
     ]
    },
    {
     "name": "stdout",
     "output_type": "stream",
     "text": [
      "Ave Loss: 0.11612379199433791\n",
      "Epoch: 49\n"
     ]
    },
    {
     "name": "stderr",
     "output_type": "stream",
     "text": [
      "100%|███████████████████████████████████████████████████████████████████████████████████████████████████████████████████| 2980/2980 [00:20<00:00, 142.75it/s, loss=0.00438]\n"
     ]
    },
    {
     "name": "stdout",
     "output_type": "stream",
     "text": [
      "Ave Loss: 0.1159927664493795\n",
      "Epoch: 50\n"
     ]
    },
    {
     "name": "stderr",
     "output_type": "stream",
     "text": [
      "100%|████████████████████████████████████████████████████████████████████████████████████████████████████████████████████| 2980/2980 [00:21<00:00, 139.75it/s, loss=0.0044]\n"
     ]
    },
    {
     "name": "stdout",
     "output_type": "stream",
     "text": [
      "Ave Loss: 0.11586166691043236\n",
      "Epoch: 51\n"
     ]
    },
    {
     "name": "stderr",
     "output_type": "stream",
     "text": [
      "100%|███████████████████████████████████████████████████████████████████████████████████████████████████████████████████| 2980/2980 [00:19<00:00, 149.90it/s, loss=0.00442]\n"
     ]
    },
    {
     "name": "stdout",
     "output_type": "stream",
     "text": [
      "Ave Loss: 0.11573024712563117\n",
      "Epoch: 52\n"
     ]
    },
    {
     "name": "stderr",
     "output_type": "stream",
     "text": [
      "100%|███████████████████████████████████████████████████████████████████████████████████████████████████████████████████| 2980/2980 [00:19<00:00, 153.29it/s, loss=0.00443]\n"
     ]
    },
    {
     "name": "stdout",
     "output_type": "stream",
     "text": [
      "Ave Loss: 0.11559827979847448\n",
      "Epoch: 53\n"
     ]
    },
    {
     "name": "stderr",
     "output_type": "stream",
     "text": [
      "100%|███████████████████████████████████████████████████████████████████████████████████████████████████████████████████| 2980/2980 [00:20<00:00, 146.64it/s, loss=0.00445]\n"
     ]
    },
    {
     "name": "stdout",
     "output_type": "stream",
     "text": [
      "Ave Loss: 0.11546555345642831\n",
      "Epoch: 54\n"
     ]
    },
    {
     "name": "stderr",
     "output_type": "stream",
     "text": [
      "100%|███████████████████████████████████████████████████████████████████████████████████████████████████████████████████| 2980/2980 [00:20<00:00, 146.94it/s, loss=0.00446]\n"
     ]
    },
    {
     "name": "stdout",
     "output_type": "stream",
     "text": [
      "Ave Loss: 0.11533187587675951\n",
      "Epoch: 55\n"
     ]
    },
    {
     "name": "stderr",
     "output_type": "stream",
     "text": [
      "100%|███████████████████████████████████████████████████████████████████████████████████████████████████████████████████| 2980/2980 [00:20<00:00, 145.61it/s, loss=0.00447]\n"
     ]
    },
    {
     "name": "stdout",
     "output_type": "stream",
     "text": [
      "Ave Loss: 0.11519706839626817\n",
      "Epoch: 56\n"
     ]
    },
    {
     "name": "stderr",
     "output_type": "stream",
     "text": [
      "100%|███████████████████████████████████████████████████████████████████████████████████████████████████████████████████| 2980/2980 [00:20<00:00, 144.81it/s, loss=0.00448]\n"
     ]
    },
    {
     "name": "stdout",
     "output_type": "stream",
     "text": [
      "Ave Loss: 0.11506095513931534\n",
      "Epoch: 57\n"
     ]
    },
    {
     "name": "stderr",
     "output_type": "stream",
     "text": [
      "100%|███████████████████████████████████████████████████████████████████████████████████████████████████████████████████| 2980/2980 [00:20<00:00, 145.96it/s, loss=0.00448]\n"
     ]
    },
    {
     "name": "stdout",
     "output_type": "stream",
     "text": [
      "Ave Loss: 0.11492337589115045\n",
      "Epoch: 58\n"
     ]
    },
    {
     "name": "stderr",
     "output_type": "stream",
     "text": [
      "100%|███████████████████████████████████████████████████████████████████████████████████████████████████████████████████| 2980/2980 [00:19<00:00, 150.79it/s, loss=0.00449]\n"
     ]
    },
    {
     "name": "stdout",
     "output_type": "stream",
     "text": [
      "Ave Loss: 0.11478418352075731\n",
      "Epoch: 59\n"
     ]
    },
    {
     "name": "stderr",
     "output_type": "stream",
     "text": [
      "100%|███████████████████████████████████████████████████████████████████████████████████████████████████████████████████| 2980/2980 [00:19<00:00, 156.21it/s, loss=0.00449]\n"
     ]
    },
    {
     "name": "stdout",
     "output_type": "stream",
     "text": [
      "Ave Loss: 0.11464323173870876\n",
      "Epoch: 60\n"
     ]
    },
    {
     "name": "stderr",
     "output_type": "stream",
     "text": [
      "100%|███████████████████████████████████████████████████████████████████████████████████████████████████████████████████| 2980/2980 [00:19<00:00, 152.77it/s, loss=0.00449]\n"
     ]
    },
    {
     "name": "stdout",
     "output_type": "stream",
     "text": [
      "Ave Loss: 0.11450040651455634\n",
      "Epoch: 61\n"
     ]
    },
    {
     "name": "stderr",
     "output_type": "stream",
     "text": [
      "100%|███████████████████████████████████████████████████████████████████████████████████████████████████████████████████| 2980/2980 [00:18<00:00, 159.95it/s, loss=0.00448]\n"
     ]
    },
    {
     "name": "stdout",
     "output_type": "stream",
     "text": [
      "Ave Loss: 0.11435558514905103\n",
      "Epoch: 62\n"
     ]
    },
    {
     "name": "stderr",
     "output_type": "stream",
     "text": [
      "100%|███████████████████████████████████████████████████████████████████████████████████████████████████████████████████| 2980/2980 [00:19<00:00, 154.17it/s, loss=0.00448]\n"
     ]
    },
    {
     "name": "stdout",
     "output_type": "stream",
     "text": [
      "Ave Loss: 0.1142086628575625\n",
      "Epoch: 63\n"
     ]
    },
    {
     "name": "stderr",
     "output_type": "stream",
     "text": [
      "100%|███████████████████████████████████████████████████████████████████████████████████████████████████████████████████| 2980/2980 [00:19<00:00, 154.19it/s, loss=0.00447]\n"
     ]
    },
    {
     "name": "stdout",
     "output_type": "stream",
     "text": [
      "Ave Loss: 0.11405955392579413\n",
      "Epoch: 64\n"
     ]
    },
    {
     "name": "stderr",
     "output_type": "stream",
     "text": [
      "100%|███████████████████████████████████████████████████████████████████████████████████████████████████████████████████| 2980/2980 [00:18<00:00, 157.18it/s, loss=0.00447]\n"
     ]
    },
    {
     "name": "stdout",
     "output_type": "stream",
     "text": [
      "Ave Loss: 0.1139081768022933\n",
      "Epoch: 65\n"
     ]
    },
    {
     "name": "stderr",
     "output_type": "stream",
     "text": [
      "100%|███████████████████████████████████████████████████████████████████████████████████████████████████████████████████| 2980/2980 [00:19<00:00, 155.91it/s, loss=0.00446]\n"
     ]
    },
    {
     "name": "stdout",
     "output_type": "stream",
     "text": [
      "Ave Loss: 0.1137544881093633\n",
      "Epoch: 66\n"
     ]
    },
    {
     "name": "stderr",
     "output_type": "stream",
     "text": [
      "100%|███████████████████████████████████████████████████████████████████████████████████████████████████████████████████| 2980/2980 [00:20<00:00, 148.78it/s, loss=0.00445]\n"
     ]
    },
    {
     "name": "stdout",
     "output_type": "stream",
     "text": [
      "Ave Loss: 0.1135984477638806\n",
      "Epoch: 67\n"
     ]
    },
    {
     "name": "stderr",
     "output_type": "stream",
     "text": [
      "100%|███████████████████████████████████████████████████████████████████████████████████████████████████████████████████| 2980/2980 [00:20<00:00, 146.24it/s, loss=0.00443]\n"
     ]
    },
    {
     "name": "stdout",
     "output_type": "stream",
     "text": [
      "Ave Loss: 0.11344005268269482\n",
      "Epoch: 68\n"
     ]
    },
    {
     "name": "stderr",
     "output_type": "stream",
     "text": [
      "100%|███████████████████████████████████████████████████████████████████████████████████████████████████████████████████| 2980/2980 [00:19<00:00, 150.63it/s, loss=0.00442]\n"
     ]
    },
    {
     "name": "stdout",
     "output_type": "stream",
     "text": [
      "Ave Loss: 0.11327931627099115\n",
      "Epoch: 69\n"
     ]
    },
    {
     "name": "stderr",
     "output_type": "stream",
     "text": [
      "100%|████████████████████████████████████████████████████████████████████████████████████████████████████████████████████| 2980/2980 [00:19<00:00, 151.07it/s, loss=0.0044]"
     ]
    },
    {
     "name": "stdout",
     "output_type": "stream",
     "text": [
      "Ave Loss: 0.11311628152922987\n"
     ]
    },
    {
     "name": "stderr",
     "output_type": "stream",
     "text": [
      "\n"
     ]
    }
   ],
   "source": [
    "# Define the training process\n",
    "# Each call of the train function == 1 Epoch\n",
    "def train_fn(loader, model, optimizer, loss_fn, batch_size):\n",
    "    loop = tqdm(loader)\n",
    "    \n",
    "    count = 0\n",
    "    ave_loss = 0.00 \n",
    "    \n",
    "    # Loop per batch\n",
    "    for batch_idx, (data, targets) in enumerate(loop):\n",
    "        predictions = model.forward(data)\n",
    "        \n",
    "        loss = loss_fn(predictions, targets)\n",
    "        \n",
    "        optimizer.zero_grad()\n",
    "        \n",
    "        loss.backward()\n",
    "        \n",
    "        optimizer.step()\n",
    "        \n",
    "        loop.set_postfix(loss=loss.item())\n",
    "        \n",
    "        ave_loss += loss.item()\n",
    "        count += 1\n",
    "        \n",
    "    ave_loss = ave_loss / count\n",
    "    \n",
    "    return ave_loss\n",
    "\n",
    "# Dataloader is in charge of:\n",
    "# - partitioning data into batches\n",
    "# - optionally shuffling the data\n",
    "# - run the optimizer against a partition defined by this loader\n",
    "custom_dataset = MyCustomDataset(x=x_train, y=y_train)\n",
    "\n",
    "train_loader = DataLoader(\n",
    "    custom_dataset,\n",
    "    batch_size=batch_size,\n",
    "    shuffle=False,\n",
    "    drop_last=False\n",
    ")\n",
    "\n",
    "epochs = 70\n",
    "losses = []\n",
    "\n",
    "for epoch in range(epochs):\n",
    "    print(\"Epoch: {}\".format(epoch))\n",
    "    \n",
    "    ave_loss = train_fn(\n",
    "        train_loader,\n",
    "        model,\n",
    "        optimizer,\n",
    "        loss_fn,\n",
    "        batch_size\n",
    "    )\n",
    "    \n",
    "    losses.append(ave_loss)\n",
    "    \n",
    "    print(\"Ave Loss: {}\".format(ave_loss))\n",
    "    \n",
    "    state = { 'state_dict': model.state_dict() }\n",
    "\n",
    "    torch.save(state, \"magic_04.pth\")"
   ]
  },
  {
   "cell_type": "code",
   "execution_count": 21,
   "id": "e070386a",
   "metadata": {},
   "outputs": [
    {
     "data": {
      "image/png": "[encoded data removed]",
      "text/plain": [
       "<Figure size 640x480 with 1 Axes>"
      ]
     },
     "metadata": {},
     "output_type": "display_data"
    }
   ],
   "source": [
    "plt.plot(losses, label='loss', color='red')\n",
    "plt.title('Training Evaluation', fontsize=14)\n",
    "plt.xlabel('Epoch', fontsize=14)\n",
    "plt.ylabel('Error Value', fontsize=14)\n",
    "plt.grid(True)\n",
    "plt.legend()\n",
    "plt.show()"
   ]
  },
  {
   "cell_type": "code",
   "execution_count": 22,
   "id": "7de45d07",
   "metadata": {},
   "outputs": [
    {
     "data": {
      "text/plain": [
       "tensor(0.8438)"
      ]
     },
     "execution_count": 22,
     "metadata": {},
     "output_type": "execute_result"
    }
   ],
   "source": [
    "target = y_test\n",
    "preds = model.forward(x_test)\n",
    "preds = one_hot_encoding(preds)\n",
    "metric = BinaryAccuracy()\n",
    "metric(preds, target)"
   ]
  },
  {
   "cell_type": "code",
   "execution_count": null,
   "id": "c1b9cc6f",
   "metadata": {},
   "outputs": [],
   "source": []
  }
 ],
 "metadata": {
  "kernelspec": {
   "display_name": "Python 3 (ipykernel)",
   "language": "python",
   "name": "python3"
  },
  "language_info": {
   "codemirror_mode": {
    "name": "ipython",
    "version": 3
   },
   "file_extension": ".py",
   "mimetype": "text/x-python",
   "name": "python",
   "nbconvert_exporter": "python",
   "pygments_lexer": "ipython3",
   "version": "3.10.7"
  }
 },
 "nbformat": 4,
 "nbformat_minor": 5
}
